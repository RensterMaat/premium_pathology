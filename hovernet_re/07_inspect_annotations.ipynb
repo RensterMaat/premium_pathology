{
 "cells": [
  {
   "cell_type": "code",
   "execution_count": 1,
   "metadata": {},
   "outputs": [
    {
     "ename": "ModuleNotFoundError",
     "evalue": "No module named 'openslide'",
     "output_type": "error",
     "traceback": [
      "\u001b[1;31m---------------------------------------------------------------------------\u001b[0m",
      "\u001b[1;31mModuleNotFoundError\u001b[0m                       Traceback (most recent call last)",
      "\u001b[1;32m<ipython-input-1-c174b375511f>\u001b[0m in \u001b[0;36m<module>\u001b[1;34m\u001b[0m\n\u001b[0;32m      6\u001b[0m \u001b[1;32mimport\u001b[0m \u001b[0mmatplotlib\u001b[0m\u001b[1;33m.\u001b[0m\u001b[0mpyplot\u001b[0m \u001b[1;32mas\u001b[0m \u001b[0mplt\u001b[0m\u001b[1;33m\u001b[0m\u001b[1;33m\u001b[0m\u001b[0m\n\u001b[0;32m      7\u001b[0m \u001b[1;32mfrom\u001b[0m \u001b[0mpathlib\u001b[0m \u001b[1;32mimport\u001b[0m \u001b[0mPath\u001b[0m\u001b[1;33m\u001b[0m\u001b[1;33m\u001b[0m\u001b[0m\n\u001b[1;32m----> 8\u001b[1;33m \u001b[1;32mfrom\u001b[0m \u001b[0mopenslide\u001b[0m \u001b[1;32mimport\u001b[0m \u001b[0mOpenSlide\u001b[0m\u001b[1;33m\u001b[0m\u001b[1;33m\u001b[0m\u001b[0m\n\u001b[0m\u001b[0;32m      9\u001b[0m \u001b[1;32mfrom\u001b[0m \u001b[0mtqdm\u001b[0m\u001b[1;33m.\u001b[0m\u001b[0mnotebook\u001b[0m \u001b[1;32mimport\u001b[0m \u001b[0mtqdm\u001b[0m\u001b[1;33m\u001b[0m\u001b[1;33m\u001b[0m\u001b[0m\n\u001b[0;32m     10\u001b[0m \u001b[0mget_ipython\u001b[0m\u001b[1;33m(\u001b[0m\u001b[1;33m)\u001b[0m\u001b[1;33m.\u001b[0m\u001b[0mrun_line_magic\u001b[0m\u001b[1;33m(\u001b[0m\u001b[1;34m'matplotlib'\u001b[0m\u001b[1;33m,\u001b[0m \u001b[1;34m'inline'\u001b[0m\u001b[1;33m)\u001b[0m\u001b[1;33m\u001b[0m\u001b[1;33m\u001b[0m\u001b[0m\n",
      "\u001b[1;31mModuleNotFoundError\u001b[0m: No module named 'openslide'"
     ]
    }
   ],
   "source": [
    "import cv2\n",
    "import json\n",
    "import numpy as np\n",
    "import pandas as pd\n",
    "import xml.etree.ElementTree as ET\n",
    "import matplotlib.pyplot as plt\n",
    "from pathlib import Path\n",
    "from openslide import OpenSlide\n",
    "from tqdm.notebook import tqdm\n",
    "%matplotlib inline\n",
    "\n",
    "\n",
    "r = Path(r'Y:\\hpc\\dla_patho\\premium\\pathology\\annotations\\isala\\core')\n",
    "output_dir = Path(r'Y:\\hpc\\dla_patho\\premium\\pathology\\hovernet_output\\isala\\core')\n",
    "roi_dir = r\n",
    "slide_r = Path(r'Y:\\hpc\\dla_patho\\premium\\pathology\\metastasis\\isala')\n",
    "\n",
    "df = pd.DataFrame(columns=['tils_per_area'])\n",
    "\n",
    "for file in tqdm(sorted(list(r.iterdir()))):\n",
    "# for file in [r / 'PREM-IS-002_b7fb67d9a5 I2 HE1 - 2022-03-24 19.52.31.json']:\n",
    "    # print(file.stem)\n",
    "\n",
    "\n",
    "    # load hovernet output file\n",
    "    \n",
    "    try:\n",
    "        with open(output_dir / (file.stem + '.json'), 'r') as f:\n",
    "            annotations = json.load(f)\n",
    "    except Exception as e:\n",
    "        print(e)\n",
    "        continue\n",
    "        \n",
    "        \n",
    "    # extract centroids of all TILs\n",
    "    centroids = []  \n",
    "    for annotation in annotations:\n",
    "        if annotation['properties']['classification']['name'] == 'inflam':\n",
    "            centroid = np.array(annotation['geometry']['coordinates']).mean(axis=-2)[0]\n",
    "            centroids.append(centroid)\n",
    "\n",
    "    xx, yy = np.stack(centroids)[:,0], np.stack(centroids)[:,1]\n",
    "\n",
    "    # load manual roi annotation\n",
    "    # roi_dir = Path('/home/rens/hpc/PREMIUM histopathology/data_annotations/isala/annotations')\n",
    "    \n",
    "    roi_file = roi_dir / (file.stem + '.xml')\n",
    "\n",
    "    with open(roi_file, 'r') as f:\n",
    "        xml_file = ET.parse(f)\n",
    "\n",
    "    # extract all rois\n",
    "    rois = []\n",
    "    for annotation in xml_file.getroot()[0]:\n",
    "        roi = []\n",
    "        for coordinate in annotation[0]:\n",
    "            roi.append([coordinate.attrib['X'], coordinate.attrib['Y']])\n",
    "        rois.append(np.array(roi).astype(float).astype(int))\n",
    "\n",
    "    # load slide image\n",
    "    \n",
    "    slide = OpenSlide(str(slide_r / (file.stem + '.ndpi')))\n",
    "\n",
    "    img = np.array(slide.read_region((0,0), 4, slide.level_dimensions[4]).convert('RGB'))\n",
    "    factor = slide.level_dimensions[0][0] / slide.level_dimensions[4][0]\n",
    "\n",
    "    # plot side by side\n",
    "    fig, ax = plt.subplots(1,2, figsize=(24,12))\n",
    "    fig.suptitle(file.stem)\n",
    "    for roi in rois:\n",
    "        ax[0].plot(roi[:,0]/factor, roi[:,1]/factor, c='r')\n",
    "    ax[0].scatter(xx/factor,yy/factor, alpha=1, s=0.1)\n",
    "    ax[0].set_xlim(0, slide.level_dimensions[4][0])\n",
    "    ax[0].set_ylim(slide.level_dimensions[4][1], 0)\n",
    "    ax[1].imshow(img)\n",
    "    fig.show()\n",
    "\n",
    "    area = np.zeros((slide.level_dimensions[0][1],slide.level_dimensions[0][0]))\n",
    "    cv2.fillPoly(area, rois, 1)\n",
    "    total_area = area.sum() * float(slide.properties['openslide.mpp-x']) * float(slide.properties['openslide.mpp-y']) \n",
    "    # print(len(xx) / total_area)\n",
    "\n",
    "    df.loc[file.stem] = len(xx) / total_area\n",
    "\n",
    "    break"
   ]
  },
  {
   "cell_type": "code",
   "execution_count": 3,
   "metadata": {},
   "outputs": [
    {
     "name": "stdout",
     "output_type": "stream",
     "text": [
      "Collecting opencv-python\n",
      "  Downloading opencv_python-4.6.0.66-cp36-abi3-win_amd64.whl (35.6 MB)\n",
      "Requirement already satisfied: numpy>=1.19.3 in c:\\users\\user\\anaconda3\\envs\\conda-env\\lib\\site-packages (from opencv-python) (1.23.4)\n",
      "Installing collected packages: opencv-python\n",
      "Successfully installed opencv-python-4.6.0.66\n"
     ]
    }
   ],
   "source": [
    "!pip install opencv-python\n",
    "\n",
    "    "
   ]
  },
  {
   "cell_type": "code",
   "execution_count": 25,
   "metadata": {},
   "outputs": [
    {
     "name": "stderr",
     "output_type": "stream",
     "text": [
      "/home/rens/anaconda3/envs/conda-env/lib/python3.9/site-packages/IPython/core/interactiveshell.py:3444: DtypeWarning: Columns (24,26,111,115,200,204,361,363,470,477,480,521,547,585,591,654) have mixed types.Specify dtype option on import or set low_memory=False.\n",
      "  exec(code_obj, self.user_global_ns, self.user_ns)\n"
     ]
    }
   ],
   "source": [
    "dmtr = pd.read_csv('/home/rens/repos/PREMIUM/code/radiomics_paper/dmtr.csv').set_index('id')"
   ]
  },
  {
   "cell_type": "code",
   "execution_count": 28,
   "metadata": {},
   "outputs": [],
   "source": [
    "dcb = []\n",
    "for patient in df.patient:\n",
    "    dcb.append(dmtr.loc[patient]['dcb'])"
   ]
  },
  {
   "cell_type": "code",
   "execution_count": 32,
   "metadata": {},
   "outputs": [
    {
     "ename": "TypeError",
     "evalue": "mannwhitneyu() missing 1 required positional argument: 'y'",
     "output_type": "error",
     "traceback": [
      "\u001b[0;31m---------------------------------------------------------------------------\u001b[0m",
      "\u001b[0;31mTypeError\u001b[0m                                 Traceback (most recent call last)",
      "\u001b[0;32m/tmp/ipykernel_51378/21309032.py\u001b[0m in \u001b[0;36m<module>\u001b[0;34m\u001b[0m\n\u001b[1;32m      6\u001b[0m \u001b[0msn\u001b[0m\u001b[0;34m.\u001b[0m\u001b[0mstripplot\u001b[0m\u001b[0;34m(\u001b[0m\u001b[0mdata\u001b[0m\u001b[0;34m=\u001b[0m\u001b[0mdf\u001b[0m\u001b[0;34m.\u001b[0m\u001b[0mdropna\u001b[0m\u001b[0;34m(\u001b[0m\u001b[0msubset\u001b[0m\u001b[0;34m=\u001b[0m\u001b[0;34m[\u001b[0m\u001b[0;34m'dcb'\u001b[0m\u001b[0;34m]\u001b[0m\u001b[0;34m)\u001b[0m\u001b[0;34m,\u001b[0m \u001b[0mx\u001b[0m\u001b[0;34m=\u001b[0m\u001b[0;34m'dcb'\u001b[0m\u001b[0;34m,\u001b[0m \u001b[0my\u001b[0m\u001b[0;34m=\u001b[0m\u001b[0;34m'tils_per_area'\u001b[0m\u001b[0;34m)\u001b[0m\u001b[0;34m\u001b[0m\u001b[0;34m\u001b[0m\u001b[0m\n\u001b[1;32m      7\u001b[0m \u001b[0;34m\u001b[0m\u001b[0m\n\u001b[0;32m----> 8\u001b[0;31m \u001b[0mprint\u001b[0m\u001b[0;34m(\u001b[0m\u001b[0mmannwhitneyu\u001b[0m\u001b[0;34m(\u001b[0m\u001b[0mdf\u001b[0m\u001b[0;34m[\u001b[0m\u001b[0mdf\u001b[0m\u001b[0;34m.\u001b[0m\u001b[0mdcb\u001b[0m \u001b[0;34m==\u001b[0m \u001b[0;36m0\u001b[0m\u001b[0;34m]\u001b[0m\u001b[0;34m.\u001b[0m\u001b[0mtils_per_area\u001b[0m\u001b[0;34m)\u001b[0m\u001b[0;34m,\u001b[0m \u001b[0mdf\u001b[0m\u001b[0;34m[\u001b[0m\u001b[0mdf\u001b[0m\u001b[0;34m.\u001b[0m\u001b[0mdcb\u001b[0m \u001b[0;34m==\u001b[0m \u001b[0;36m1\u001b[0m\u001b[0;34m]\u001b[0m\u001b[0;34m.\u001b[0m\u001b[0mtils_per_area\u001b[0m\u001b[0;34m)\u001b[0m\u001b[0;34m\u001b[0m\u001b[0;34m\u001b[0m\u001b[0m\n\u001b[0m",
      "\u001b[0;31mTypeError\u001b[0m: mannwhitneyu() missing 1 required positional argument: 'y'"
     ]
    },
    {
     "data": {
      "image/png": "[encoded data removed]",
      "text/plain": [
       "<Figure size 432x288 with 1 Axes>"
      ]
     },
     "metadata": {
      "needs_background": "light"
     },
     "output_type": "display_data"
    }
   ],
   "source": [
    "import seaborn as sn\n",
    "from scipy.stats import mannwhitneyu\n",
    "\n",
    "df['dcb'] = dcb\n",
    "\n",
    "sn.stripplot(data=df.dropna(subset=['dcb']), x='dcb', y='tils_per_area')\n",
    "\n"
   ]
  },
  {
   "cell_type": "code",
   "execution_count": 33,
   "metadata": {},
   "outputs": [
    {
     "name": "stdout",
     "output_type": "stream",
     "text": [
      "MannwhitneyuResult(statistic=240.0, pvalue=0.40878724164350344)\n"
     ]
    }
   ],
   "source": [
    "print(mannwhitneyu(df[df.dcb == 0].tils_per_area, df[df.dcb == 1].tils_per_area))"
   ]
  },
  {
   "cell_type": "code",
   "execution_count": null,
   "metadata": {},
   "outputs": [],
   "source": [
    "df.to_csv('/home/rens/hpc/rens/output/isala_tils_per_area.csv')"
   ]
  },
  {
   "cell_type": "code",
   "execution_count": 10,
   "metadata": {},
   "outputs": [
    {
     "data": {
      "text/plain": [
       "0.24106272163120568"
      ]
     },
     "execution_count": 10,
     "metadata": {},
     "output_type": "execute_result"
    }
   ],
   "source": [
    "43507/180480"
   ]
  },
  {
   "cell_type": "code",
   "execution_count": null,
   "metadata": {},
   "outputs": [],
   "source": []
  }
 ],
 "metadata": {
  "kernelspec": {
   "display_name": "Python 3.9.1 ('conda-env')",
   "language": "python",
   "name": "python3"
  },
  "language_info": {
   "codemirror_mode": {
    "name": "ipython",
    "version": 3
   },
   "file_extension": ".py",
   "mimetype": "text/x-python",
   "name": "python",
   "nbconvert_exporter": "python",
   "pygments_lexer": "ipython3",
   "version": "3.9.1"
  },
  "orig_nbformat": 4,
  "vscode": {
   "interpreter": {
    "hash": "e155a5961ac9a2794d65e1939d0561747c6abc873218f9a8bb36a41ee161e8f8"
   }
  }
 },
 "nbformat": 4,
 "nbformat_minor": 2
}
