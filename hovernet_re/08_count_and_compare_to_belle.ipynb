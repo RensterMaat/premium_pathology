{
 "cells": [
  {
   "cell_type": "code",
   "execution_count": 3,
   "metadata": {},
   "outputs": [
    {
     "data": {
      "application/vnd.jupyter.widget-view+json": {
       "model_id": "d03cc5bf6b8a4b02a1a8746d7b8c94d8",
       "version_major": 2,
       "version_minor": 0
      },
      "text/plain": [
       "  0%|          | 0/56 [00:00<?, ?it/s]"
      ]
     },
     "metadata": {},
     "output_type": "display_data"
    },
    {
     "name": "stdout",
     "output_type": "stream",
     "text": [
      "177859.632282142\n",
      "15319772.260546815\n",
      "77001861.5157683\n",
      "41401515.76983046\n",
      "924358.6568902817\n",
      "4070441.104483632\n",
      "12035349.847064808\n",
      "18407837.93585849\n",
      "117381593.14096838\n",
      "OpenCV(4.6.0) :-1: error: (-5:Bad argument) in function 'fillPoly'\n",
      "> Overload resolution failed:\n",
      ">  - Layout of the output array img is incompatible with cv::Mat\n",
      ">  - Expected Ptr<cv::UMat> for argument 'img'\n",
      "\n",
      "[]\n",
      "142493049.589624\n",
      "40088622.78848686\n",
      "93263533.24770091\n",
      "1182303.7307757004\n",
      "50634102.34602857\n",
      "57903808.37964524\n",
      "11355194.198245846\n",
      "10306396.142616812\n",
      "11543366.984110886\n",
      "82911198.1345906\n",
      "22527282.369994476\n",
      "867884.6309437567\n",
      "28275016.310210124\n",
      "39018971.24044405\n",
      "OpenCV(4.6.0) :-1: error: (-5:Bad argument) in function 'fillPoly'\n",
      "> Overload resolution failed:\n",
      ">  - Layout of the output array img is incompatible with cv::Mat\n",
      ">  - Expected Ptr<cv::UMat> for argument 'img'\n",
      "\n",
      "[]\n",
      "OpenCV(4.6.0) :-1: error: (-5:Bad argument) in function 'fillPoly'\n",
      "> Overload resolution failed:\n",
      ">  - Layout of the output array img is incompatible with cv::Mat\n",
      ">  - Expected Ptr<cv::UMat> for argument 'img'\n",
      "\n",
      "[]\n",
      "OpenCV(4.6.0) :-1: error: (-5:Bad argument) in function 'fillPoly'\n",
      "> Overload resolution failed:\n",
      ">  - Layout of the output array img is incompatible with cv::Mat\n",
      ">  - Expected Ptr<cv::UMat> for argument 'img'\n",
      "\n",
      "[]\n",
      "33061328.69784694\n",
      "31217387.5576519\n",
      "34537758.07409397\n",
      "58581084.58753046\n",
      "47960655.03166548\n",
      "6548852.525141418\n",
      "4280915.028296123\n",
      "74702276.58554105\n",
      "6155594.86088118\n",
      "3688484.58546613\n",
      "23442617.017499723\n",
      "1258865.1593462958\n",
      "28934725.28671053\n",
      "25861204.750647683\n",
      "2907675.3050345527\n",
      "54563588.2125828\n",
      "9956081.773603404\n",
      "6789061.299550507\n",
      "48333518.85738577\n",
      "19778367.286277834\n",
      "1619862.518392812\n",
      "21309437.35635393\n",
      "5977486.909839613\n",
      "3421700.420420778\n",
      "57561154.908528954\n",
      "7480090.14000554\n",
      "15929120.079284819\n",
      "50983872.527122386\n",
      "14326534.206494506\n",
      "3793058.4834509343\n",
      "16438633.189978525\n",
      "510892.07231519045\n",
      "250405.6936790673\n"
     ]
    }
   ],
   "source": [
    "import cv2\n",
    "import json\n",
    "import numpy as np\n",
    "import pandas as pd\n",
    "import xml.etree.ElementTree as ET\n",
    "import matplotlib.pyplot as plt\n",
    "from pathlib import Path\n",
    "from openslide import OpenSlide\n",
    "from tqdm.notebook import tqdm\n",
    "%matplotlib inline\n",
    "\n",
    "output_dir = Path('/mnt/hpc/pathology/hovernet_output/isala/core')\n",
    "roi_dir = Path('/mnt/hpc/pathology/annotations/isala/core')\n",
    "slide_r = Path('/mnt/hpc/pathology/metastasis/isala')\n",
    "\n",
    "df = pd.DataFrame(columns=['tils_per_area'])\n",
    "\n",
    "for file in tqdm(list(roi_dir.iterdir())):\n",
    "    with open(output_dir / (file.stem + '.json'), 'r') as f:\n",
    "        annotations = json.load(f)\n",
    "\n",
    "    count = 0\n",
    "    for annotation in annotations:\n",
    "        if annotation['properties']['classification']['name'] == 'inflam':\n",
    "            count += 1\n",
    "            \n",
    "\n",
    "    roi_file = roi_dir / (file.stem + '.xml')\n",
    "\n",
    "    with open(roi_file, 'r') as f:\n",
    "        xml_file = ET.parse(f)\n",
    "\n",
    "    rois = []\n",
    "    for annotation in xml_file.getroot()[0]:\n",
    "        roi = []\n",
    "        for coordinate in annotation[0]:\n",
    "            roi.append([coordinate.attrib['X'], coordinate.attrib['Y']])\n",
    "        rois.append(np.array(roi).astype(float).astype(int))\n",
    "\n",
    "\n",
    "    slide = OpenSlide(str(slide_r / (file.stem + '.ndpi')))\n",
    "    voxel_size = float(slide.properties['openslide.mpp-x']) * float(slide.properties['openslide.mpp-y']) \n",
    "\n",
    "    total_area = 0\n",
    "\n",
    "    factor = 10\n",
    "\n",
    "    for roi in rois:\n",
    "        origin = roi.min(axis=0)\n",
    "        width = int((roi[:,0].max() - origin[0]) / factor)\n",
    "        height = int((roi[:,1].max() - origin[1]) / factor)\n",
    "\n",
    "        area = np.zeros((width, height))\n",
    "        try:\n",
    "            cv2.fillPoly(area, [((roi - origin) / factor).astype(int)], 1)\n",
    "        except Exception as e:\n",
    "            print(e)\n",
    "            print(area)\n",
    "            continue\n",
    "\n",
    "        total_area += area.sum() * (factor ** 2) * voxel_size\n",
    "\n",
    "    print(total_area)\n",
    "    \n",
    "    df.loc[file.stem] = count / total_area"
   ]
  },
  {
   "cell_type": "code",
   "execution_count": 4,
   "metadata": {},
   "outputs": [
    {
     "data": {
      "text/plain": [
       "<AxesSubplot: >"
      ]
     },
     "execution_count": 4,
     "metadata": {},
     "output_type": "execute_result"
    },
    {
     "data": {
      "image/png": "[encoded data removed]",
      "text/plain": [
       "<Figure size 640x480 with 1 Axes>"
      ]
     },
     "metadata": {},
     "output_type": "display_data"
    }
   ],
   "source": [
    "df.tils_per_area.hist()"
   ]
  },
  {
   "cell_type": "code",
   "execution_count": 41,
   "metadata": {},
   "outputs": [],
   "source": [
    "manual  = pd.read_csv('/mnt/c/Users/user/Downloads/PREMIUM_TILS_Isala_METASTASIS_22_12_12_11.csv', sep='\\t')\n",
    "clark = manual[manual.Question == 'Clark score'].groupby('Image Name').Answer.first()\n",
    "mia = manual[manual.Question == 'MIA score'].groupby('Image Name').Answer.first()\n",
    "salgado = manual[manual.Question == \"Salgado 'stromal'\"].groupby('Image Name').Answer.first()\n",
    "clark = clark.to_frame().rename(columns={'Answer':'clark'})\n",
    "mia = mia.to_frame().rename(columns={'Answer':'mia'})\n",
    "salgado = salgado.to_frame().rename(columns={'Answer':'salgado'})\n",
    "manual = clark.join(mia).join(salgado)"
   ]
  },
  {
   "cell_type": "code",
   "execution_count": 42,
   "metadata": {},
   "outputs": [
    {
     "ename": "ValueError",
     "evalue": "columns overlap but no suffix specified: Index(['salgado'], dtype='object')",
     "output_type": "error",
     "traceback": [
      "\u001b[0;31m---------------------------------------------------------------------------\u001b[0m",
      "\u001b[0;31mValueError\u001b[0m                                Traceback (most recent call last)",
      "Cell \u001b[0;32mIn[42], line 1\u001b[0m\n\u001b[0;32m----> 1\u001b[0m df \u001b[39m=\u001b[39m manual\u001b[39m.\u001b[39;49mjoin(df)\n",
      "File \u001b[0;32m~/miniconda3/envs/rens/lib/python3.10/site-packages/pandas/core/frame.py:9976\u001b[0m, in \u001b[0;36mDataFrame.join\u001b[0;34m(self, other, on, how, lsuffix, rsuffix, sort, validate)\u001b[0m\n\u001b[1;32m   9813\u001b[0m \u001b[39mdef\u001b[39;00m \u001b[39mjoin\u001b[39m(\n\u001b[1;32m   9814\u001b[0m     \u001b[39mself\u001b[39m,\n\u001b[1;32m   9815\u001b[0m     other: DataFrame \u001b[39m|\u001b[39m Series \u001b[39m|\u001b[39m \u001b[39mlist\u001b[39m[DataFrame \u001b[39m|\u001b[39m Series],\n\u001b[0;32m   (...)\u001b[0m\n\u001b[1;32m   9821\u001b[0m     validate: \u001b[39mstr\u001b[39m \u001b[39m|\u001b[39m \u001b[39mNone\u001b[39;00m \u001b[39m=\u001b[39m \u001b[39mNone\u001b[39;00m,\n\u001b[1;32m   9822\u001b[0m ) \u001b[39m-\u001b[39m\u001b[39m>\u001b[39m DataFrame:\n\u001b[1;32m   9823\u001b[0m     \u001b[39m\"\"\"\u001b[39;00m\n\u001b[1;32m   9824\u001b[0m \u001b[39m    Join columns of another DataFrame.\u001b[39;00m\n\u001b[1;32m   9825\u001b[0m \n\u001b[0;32m   (...)\u001b[0m\n\u001b[1;32m   9974\u001b[0m \u001b[39m    5  K1  A5   B1\u001b[39;00m\n\u001b[1;32m   9975\u001b[0m \u001b[39m    \"\"\"\u001b[39;00m\n\u001b[0;32m-> 9976\u001b[0m     \u001b[39mreturn\u001b[39;00m \u001b[39mself\u001b[39;49m\u001b[39m.\u001b[39;49m_join_compat(\n\u001b[1;32m   9977\u001b[0m         other,\n\u001b[1;32m   9978\u001b[0m         on\u001b[39m=\u001b[39;49mon,\n\u001b[1;32m   9979\u001b[0m         how\u001b[39m=\u001b[39;49mhow,\n\u001b[1;32m   9980\u001b[0m         lsuffix\u001b[39m=\u001b[39;49mlsuffix,\n\u001b[1;32m   9981\u001b[0m         rsuffix\u001b[39m=\u001b[39;49mrsuffix,\n\u001b[1;32m   9982\u001b[0m         sort\u001b[39m=\u001b[39;49msort,\n\u001b[1;32m   9983\u001b[0m         validate\u001b[39m=\u001b[39;49mvalidate,\n\u001b[1;32m   9984\u001b[0m     )\n",
      "File \u001b[0;32m~/miniconda3/envs/rens/lib/python3.10/site-packages/pandas/core/frame.py:10015\u001b[0m, in \u001b[0;36mDataFrame._join_compat\u001b[0;34m(self, other, on, how, lsuffix, rsuffix, sort, validate)\u001b[0m\n\u001b[1;32m  10005\u001b[0m     \u001b[39mif\u001b[39;00m how \u001b[39m==\u001b[39m \u001b[39m\"\u001b[39m\u001b[39mcross\u001b[39m\u001b[39m\"\u001b[39m:\n\u001b[1;32m  10006\u001b[0m         \u001b[39mreturn\u001b[39;00m merge(\n\u001b[1;32m  10007\u001b[0m             \u001b[39mself\u001b[39m,\n\u001b[1;32m  10008\u001b[0m             other,\n\u001b[0;32m   (...)\u001b[0m\n\u001b[1;32m  10013\u001b[0m             validate\u001b[39m=\u001b[39mvalidate,\n\u001b[1;32m  10014\u001b[0m         )\n\u001b[0;32m> 10015\u001b[0m     \u001b[39mreturn\u001b[39;00m merge(\n\u001b[1;32m  10016\u001b[0m         \u001b[39mself\u001b[39;49m,\n\u001b[1;32m  10017\u001b[0m         other,\n\u001b[1;32m  10018\u001b[0m         left_on\u001b[39m=\u001b[39;49mon,\n\u001b[1;32m  10019\u001b[0m         how\u001b[39m=\u001b[39;49mhow,\n\u001b[1;32m  10020\u001b[0m         left_index\u001b[39m=\u001b[39;49mon \u001b[39mis\u001b[39;49;00m \u001b[39mNone\u001b[39;49;00m,\n\u001b[1;32m  10021\u001b[0m         right_index\u001b[39m=\u001b[39;49m\u001b[39mTrue\u001b[39;49;00m,\n\u001b[1;32m  10022\u001b[0m         suffixes\u001b[39m=\u001b[39;49m(lsuffix, rsuffix),\n\u001b[1;32m  10023\u001b[0m         sort\u001b[39m=\u001b[39;49msort,\n\u001b[1;32m  10024\u001b[0m         validate\u001b[39m=\u001b[39;49mvalidate,\n\u001b[1;32m  10025\u001b[0m     )\n\u001b[1;32m  10026\u001b[0m \u001b[39melse\u001b[39;00m:\n\u001b[1;32m  10027\u001b[0m     \u001b[39mif\u001b[39;00m on \u001b[39mis\u001b[39;00m \u001b[39mnot\u001b[39;00m \u001b[39mNone\u001b[39;00m:\n",
      "File \u001b[0;32m~/miniconda3/envs/rens/lib/python3.10/site-packages/pandas/core/reshape/merge.py:124\u001b[0m, in \u001b[0;36mmerge\u001b[0;34m(left, right, how, on, left_on, right_on, left_index, right_index, sort, suffixes, copy, indicator, validate)\u001b[0m\n\u001b[1;32m     93\u001b[0m \u001b[39m@Substitution\u001b[39m(\u001b[39m\"\u001b[39m\u001b[39m\\n\u001b[39;00m\u001b[39mleft : DataFrame or named Series\u001b[39m\u001b[39m\"\u001b[39m)\n\u001b[1;32m     94\u001b[0m \u001b[39m@Appender\u001b[39m(_merge_doc, indents\u001b[39m=\u001b[39m\u001b[39m0\u001b[39m)\n\u001b[1;32m     95\u001b[0m \u001b[39mdef\u001b[39;00m \u001b[39mmerge\u001b[39m(\n\u001b[0;32m   (...)\u001b[0m\n\u001b[1;32m    108\u001b[0m     validate: \u001b[39mstr\u001b[39m \u001b[39m|\u001b[39m \u001b[39mNone\u001b[39;00m \u001b[39m=\u001b[39m \u001b[39mNone\u001b[39;00m,\n\u001b[1;32m    109\u001b[0m ) \u001b[39m-\u001b[39m\u001b[39m>\u001b[39m DataFrame:\n\u001b[1;32m    110\u001b[0m     op \u001b[39m=\u001b[39m _MergeOperation(\n\u001b[1;32m    111\u001b[0m         left,\n\u001b[1;32m    112\u001b[0m         right,\n\u001b[0;32m   (...)\u001b[0m\n\u001b[1;32m    122\u001b[0m         validate\u001b[39m=\u001b[39mvalidate,\n\u001b[1;32m    123\u001b[0m     )\n\u001b[0;32m--> 124\u001b[0m     \u001b[39mreturn\u001b[39;00m op\u001b[39m.\u001b[39;49mget_result(copy\u001b[39m=\u001b[39;49mcopy)\n",
      "File \u001b[0;32m~/miniconda3/envs/rens/lib/python3.10/site-packages/pandas/core/reshape/merge.py:775\u001b[0m, in \u001b[0;36m_MergeOperation.get_result\u001b[0;34m(self, copy)\u001b[0m\n\u001b[1;32m    771\u001b[0m     \u001b[39mself\u001b[39m\u001b[39m.\u001b[39mleft, \u001b[39mself\u001b[39m\u001b[39m.\u001b[39mright \u001b[39m=\u001b[39m \u001b[39mself\u001b[39m\u001b[39m.\u001b[39m_indicator_pre_merge(\u001b[39mself\u001b[39m\u001b[39m.\u001b[39mleft, \u001b[39mself\u001b[39m\u001b[39m.\u001b[39mright)\n\u001b[1;32m    773\u001b[0m join_index, left_indexer, right_indexer \u001b[39m=\u001b[39m \u001b[39mself\u001b[39m\u001b[39m.\u001b[39m_get_join_info()\n\u001b[0;32m--> 775\u001b[0m result \u001b[39m=\u001b[39m \u001b[39mself\u001b[39;49m\u001b[39m.\u001b[39;49m_reindex_and_concat(\n\u001b[1;32m    776\u001b[0m     join_index, left_indexer, right_indexer, copy\u001b[39m=\u001b[39;49mcopy\n\u001b[1;32m    777\u001b[0m )\n\u001b[1;32m    778\u001b[0m result \u001b[39m=\u001b[39m result\u001b[39m.\u001b[39m__finalize__(\u001b[39mself\u001b[39m, method\u001b[39m=\u001b[39m\u001b[39mself\u001b[39m\u001b[39m.\u001b[39m_merge_type)\n\u001b[1;32m    780\u001b[0m \u001b[39mif\u001b[39;00m \u001b[39mself\u001b[39m\u001b[39m.\u001b[39mindicator:\n",
      "File \u001b[0;32m~/miniconda3/envs/rens/lib/python3.10/site-packages/pandas/core/reshape/merge.py:729\u001b[0m, in \u001b[0;36m_MergeOperation._reindex_and_concat\u001b[0;34m(self, join_index, left_indexer, right_indexer, copy)\u001b[0m\n\u001b[1;32m    726\u001b[0m left \u001b[39m=\u001b[39m \u001b[39mself\u001b[39m\u001b[39m.\u001b[39mleft[:]\n\u001b[1;32m    727\u001b[0m right \u001b[39m=\u001b[39m \u001b[39mself\u001b[39m\u001b[39m.\u001b[39mright[:]\n\u001b[0;32m--> 729\u001b[0m llabels, rlabels \u001b[39m=\u001b[39m _items_overlap_with_suffix(\n\u001b[1;32m    730\u001b[0m     \u001b[39mself\u001b[39;49m\u001b[39m.\u001b[39;49mleft\u001b[39m.\u001b[39;49m_info_axis, \u001b[39mself\u001b[39;49m\u001b[39m.\u001b[39;49mright\u001b[39m.\u001b[39;49m_info_axis, \u001b[39mself\u001b[39;49m\u001b[39m.\u001b[39;49msuffixes\n\u001b[1;32m    731\u001b[0m )\n\u001b[1;32m    733\u001b[0m \u001b[39mif\u001b[39;00m left_indexer \u001b[39mis\u001b[39;00m \u001b[39mnot\u001b[39;00m \u001b[39mNone\u001b[39;00m:\n\u001b[1;32m    734\u001b[0m     \u001b[39m# Pinning the index here (and in the right code just below) is not\u001b[39;00m\n\u001b[1;32m    735\u001b[0m     \u001b[39m#  necessary, but makes the `.take` more performant if we have e.g.\u001b[39;00m\n\u001b[1;32m    736\u001b[0m     \u001b[39m#  a MultiIndex for left.index.\u001b[39;00m\n\u001b[1;32m    737\u001b[0m     lmgr \u001b[39m=\u001b[39m left\u001b[39m.\u001b[39m_mgr\u001b[39m.\u001b[39mreindex_indexer(\n\u001b[1;32m    738\u001b[0m         join_index,\n\u001b[1;32m    739\u001b[0m         left_indexer,\n\u001b[0;32m   (...)\u001b[0m\n\u001b[1;32m    744\u001b[0m         use_na_proxy\u001b[39m=\u001b[39m\u001b[39mTrue\u001b[39;00m,\n\u001b[1;32m    745\u001b[0m     )\n",
      "File \u001b[0;32m~/miniconda3/envs/rens/lib/python3.10/site-packages/pandas/core/reshape/merge.py:2458\u001b[0m, in \u001b[0;36m_items_overlap_with_suffix\u001b[0;34m(left, right, suffixes)\u001b[0m\n\u001b[1;32m   2455\u001b[0m lsuffix, rsuffix \u001b[39m=\u001b[39m suffixes\n\u001b[1;32m   2457\u001b[0m \u001b[39mif\u001b[39;00m \u001b[39mnot\u001b[39;00m lsuffix \u001b[39mand\u001b[39;00m \u001b[39mnot\u001b[39;00m rsuffix:\n\u001b[0;32m-> 2458\u001b[0m     \u001b[39mraise\u001b[39;00m \u001b[39mValueError\u001b[39;00m(\u001b[39mf\u001b[39m\u001b[39m\"\u001b[39m\u001b[39mcolumns overlap but no suffix specified: \u001b[39m\u001b[39m{\u001b[39;00mto_rename\u001b[39m}\u001b[39;00m\u001b[39m\"\u001b[39m)\n\u001b[1;32m   2460\u001b[0m \u001b[39mdef\u001b[39;00m \u001b[39mrenamer\u001b[39m(x, suffix):\n\u001b[1;32m   2461\u001b[0m     \u001b[39m\"\"\"\u001b[39;00m\n\u001b[1;32m   2462\u001b[0m \u001b[39m    Rename the left and right indices.\u001b[39;00m\n\u001b[1;32m   2463\u001b[0m \n\u001b[0;32m   (...)\u001b[0m\n\u001b[1;32m   2474\u001b[0m \u001b[39m    x : renamed column name\u001b[39;00m\n\u001b[1;32m   2475\u001b[0m \u001b[39m    \"\"\"\u001b[39;00m\n",
      "\u001b[0;31mValueError\u001b[0m: columns overlap but no suffix specified: Index(['salgado'], dtype='object')"
     ]
    }
   ],
   "source": [
    "df = manual.join(df)"
   ]
  },
  {
   "cell_type": "code",
   "execution_count": 34,
   "metadata": {},
   "outputs": [
    {
     "data": {
      "text/html": [
       "<div>\n",
       "<style scoped>\n",
       "    .dataframe tbody tr th:only-of-type {\n",
       "        vertical-align: middle;\n",
       "    }\n",
       "\n",
       "    .dataframe tbody tr th {\n",
       "        vertical-align: top;\n",
       "    }\n",
       "\n",
       "    .dataframe thead th {\n",
       "        text-align: right;\n",
       "    }\n",
       "</style>\n",
       "<table border=\"1\" class=\"dataframe\">\n",
       "  <thead>\n",
       "    <tr style=\"text-align: right;\">\n",
       "      <th></th>\n",
       "      <th>clark</th>\n",
       "      <th>mia</th>\n",
       "      <th>salgado</th>\n",
       "      <th>tils_per_area</th>\n",
       "    </tr>\n",
       "    <tr>\n",
       "      <th>Image Name</th>\n",
       "      <th></th>\n",
       "      <th></th>\n",
       "      <th></th>\n",
       "      <th></th>\n",
       "    </tr>\n",
       "  </thead>\n",
       "  <tbody>\n",
       "    <tr>\n",
       "      <th>PREM-IS-006_48d913dbed I3 HE1 - 2022-03-24 19.36.01</th>\n",
       "      <td>Absent A - no lymphocytes</td>\n",
       "      <td>grade 0 - TIL absent</td>\n",
       "      <td>0%</td>\n",
       "      <td>0.000258</td>\n",
       "    </tr>\n",
       "    <tr>\n",
       "      <th>PREM-IS-075_6d2039bb4d I3 HE1 - 2022-03-24 19.57.33</th>\n",
       "      <td>Absent A - no lymphocytes</td>\n",
       "      <td>grade 0 - TIL absent</td>\n",
       "      <td>0%</td>\n",
       "      <td>NaN</td>\n",
       "    </tr>\n",
       "    <tr>\n",
       "      <th>PREM-IS-136_15d47281a9 I1 HE2 - 2022-03-25 13.33.43</th>\n",
       "      <td>Absent A - no lymphocytes</td>\n",
       "      <td>grade 0 - TIL absent</td>\n",
       "      <td>0%</td>\n",
       "      <td>NaN</td>\n",
       "    </tr>\n",
       "    <tr>\n",
       "      <th>PREM-IS-134_988953567a I1 HE1 - 2022-03-25 13.31.06</th>\n",
       "      <td>Absent A - no lymphocytes</td>\n",
       "      <td>grade 0 - TIL absent</td>\n",
       "      <td>0%</td>\n",
       "      <td>0.000947</td>\n",
       "    </tr>\n",
       "    <tr>\n",
       "      <th>PREM-IS-137_6d9eb60430 I1 HE1 - 2022-03-25 13.37.29</th>\n",
       "      <td>Absent A - no lymphocytes</td>\n",
       "      <td>grade 0 - TIL absent</td>\n",
       "      <td>0%</td>\n",
       "      <td>NaN</td>\n",
       "    </tr>\n",
       "    <tr>\n",
       "      <th>...</th>\n",
       "      <td>...</td>\n",
       "      <td>...</td>\n",
       "      <td>...</td>\n",
       "      <td>...</td>\n",
       "    </tr>\n",
       "    <tr>\n",
       "      <th>PREM-IS-142_abcbec20c1 II4 HE1 - 2022-03-25 14.54.17</th>\n",
       "      <td>Brisk diffuse</td>\n",
       "      <td>grade 3 - moderate or marked diffuse infiltrate</td>\n",
       "      <td>90%</td>\n",
       "      <td>NaN</td>\n",
       "    </tr>\n",
       "    <tr>\n",
       "      <th>PREM-IS-109_2488bb4da7 I2 HE1 - 2022-03-25 13.42.31</th>\n",
       "      <td>Brisk diffuse</td>\n",
       "      <td>grade 3 - moderate or marked diffuse infiltrate</td>\n",
       "      <td>90%</td>\n",
       "      <td>NaN</td>\n",
       "    </tr>\n",
       "    <tr>\n",
       "      <th>PREM-IS-009_412623daa8 II30 HE1 - 2022-03-24 19.19.23</th>\n",
       "      <td>Brisk diffuse</td>\n",
       "      <td>grade 3 - moderate or marked diffuse infiltrate</td>\n",
       "      <td>95%</td>\n",
       "      <td>NaN</td>\n",
       "    </tr>\n",
       "    <tr>\n",
       "      <th>PREM-IS-009_2719c87bee I1 HE1 - 2022-03-24 19.16.10</th>\n",
       "      <td>NA -&gt; geisoleerde tumorcellen</td>\n",
       "      <td>NA -&gt; geisoleerde tumorcellen</td>\n",
       "      <td>NA -&gt; geisoleerde tumorcellen</td>\n",
       "      <td>0.000620</td>\n",
       "    </tr>\n",
       "    <tr>\n",
       "      <th>PREM-IS-074_fab78c9efd II1 HE1 - 2022-03-24 17.39.37</th>\n",
       "      <td>NA -&gt; geisoleerde tumorcellen</td>\n",
       "      <td>NA -&gt; geisoleerde tumorcellen</td>\n",
       "      <td>NA -&gt; geisoleerde tumorcellen</td>\n",
       "      <td>NaN</td>\n",
       "    </tr>\n",
       "  </tbody>\n",
       "</table>\n",
       "<p>84 rows × 4 columns</p>\n",
       "</div>"
      ],
      "text/plain": [
       "                                                                            clark  \\\n",
       "Image Name                                                                          \n",
       "PREM-IS-006_48d913dbed I3 HE1 - 2022-03-24 19.3...      Absent A - no lymphocytes   \n",
       "PREM-IS-075_6d2039bb4d I3 HE1 - 2022-03-24 19.5...      Absent A - no lymphocytes   \n",
       "PREM-IS-136_15d47281a9 I1 HE2 - 2022-03-25 13.3...      Absent A - no lymphocytes   \n",
       "PREM-IS-134_988953567a I1 HE1 - 2022-03-25 13.3...      Absent A - no lymphocytes   \n",
       "PREM-IS-137_6d9eb60430 I1 HE1 - 2022-03-25 13.3...      Absent A - no lymphocytes   \n",
       "...                                                                           ...   \n",
       "PREM-IS-142_abcbec20c1 II4 HE1 - 2022-03-25 14....                  Brisk diffuse   \n",
       "PREM-IS-109_2488bb4da7 I2 HE1 - 2022-03-25 13.4...                  Brisk diffuse   \n",
       "PREM-IS-009_412623daa8 II30 HE1 - 2022-03-24 19...                  Brisk diffuse   \n",
       "PREM-IS-009_2719c87bee I1 HE1 - 2022-03-24 19.1...  NA -> geisoleerde tumorcellen   \n",
       "PREM-IS-074_fab78c9efd II1 HE1 - 2022-03-24 17....  NA -> geisoleerde tumorcellen   \n",
       "\n",
       "                                                                                                mia  \\\n",
       "Image Name                                                                                            \n",
       "PREM-IS-006_48d913dbed I3 HE1 - 2022-03-24 19.3...                             grade 0 - TIL absent   \n",
       "PREM-IS-075_6d2039bb4d I3 HE1 - 2022-03-24 19.5...                             grade 0 - TIL absent   \n",
       "PREM-IS-136_15d47281a9 I1 HE2 - 2022-03-25 13.3...                             grade 0 - TIL absent   \n",
       "PREM-IS-134_988953567a I1 HE1 - 2022-03-25 13.3...                             grade 0 - TIL absent   \n",
       "PREM-IS-137_6d9eb60430 I1 HE1 - 2022-03-25 13.3...                             grade 0 - TIL absent   \n",
       "...                                                                                             ...   \n",
       "PREM-IS-142_abcbec20c1 II4 HE1 - 2022-03-25 14....  grade 3 - moderate or marked diffuse infiltrate   \n",
       "PREM-IS-109_2488bb4da7 I2 HE1 - 2022-03-25 13.4...  grade 3 - moderate or marked diffuse infiltrate   \n",
       "PREM-IS-009_412623daa8 II30 HE1 - 2022-03-24 19...  grade 3 - moderate or marked diffuse infiltrate   \n",
       "PREM-IS-009_2719c87bee I1 HE1 - 2022-03-24 19.1...                    NA -> geisoleerde tumorcellen   \n",
       "PREM-IS-074_fab78c9efd II1 HE1 - 2022-03-24 17....                    NA -> geisoleerde tumorcellen   \n",
       "\n",
       "                                                                          salgado  \\\n",
       "Image Name                                                                          \n",
       "PREM-IS-006_48d913dbed I3 HE1 - 2022-03-24 19.3...                             0%   \n",
       "PREM-IS-075_6d2039bb4d I3 HE1 - 2022-03-24 19.5...                             0%   \n",
       "PREM-IS-136_15d47281a9 I1 HE2 - 2022-03-25 13.3...                             0%   \n",
       "PREM-IS-134_988953567a I1 HE1 - 2022-03-25 13.3...                             0%   \n",
       "PREM-IS-137_6d9eb60430 I1 HE1 - 2022-03-25 13.3...                             0%   \n",
       "...                                                                           ...   \n",
       "PREM-IS-142_abcbec20c1 II4 HE1 - 2022-03-25 14....                            90%   \n",
       "PREM-IS-109_2488bb4da7 I2 HE1 - 2022-03-25 13.4...                            90%   \n",
       "PREM-IS-009_412623daa8 II30 HE1 - 2022-03-24 19...                            95%   \n",
       "PREM-IS-009_2719c87bee I1 HE1 - 2022-03-24 19.1...  NA -> geisoleerde tumorcellen   \n",
       "PREM-IS-074_fab78c9efd II1 HE1 - 2022-03-24 17....  NA -> geisoleerde tumorcellen   \n",
       "\n",
       "                                                    tils_per_area  \n",
       "Image Name                                                         \n",
       "PREM-IS-006_48d913dbed I3 HE1 - 2022-03-24 19.3...       0.000258  \n",
       "PREM-IS-075_6d2039bb4d I3 HE1 - 2022-03-24 19.5...            NaN  \n",
       "PREM-IS-136_15d47281a9 I1 HE2 - 2022-03-25 13.3...            NaN  \n",
       "PREM-IS-134_988953567a I1 HE1 - 2022-03-25 13.3...       0.000947  \n",
       "PREM-IS-137_6d9eb60430 I1 HE1 - 2022-03-25 13.3...            NaN  \n",
       "...                                                           ...  \n",
       "PREM-IS-142_abcbec20c1 II4 HE1 - 2022-03-25 14....            NaN  \n",
       "PREM-IS-109_2488bb4da7 I2 HE1 - 2022-03-25 13.4...            NaN  \n",
       "PREM-IS-009_412623daa8 II30 HE1 - 2022-03-24 19...            NaN  \n",
       "PREM-IS-009_2719c87bee I1 HE1 - 2022-03-24 19.1...       0.000620  \n",
       "PREM-IS-074_fab78c9efd II1 HE1 - 2022-03-24 17....            NaN  \n",
       "\n",
       "[84 rows x 4 columns]"
      ]
     },
     "execution_count": 34,
     "metadata": {},
     "output_type": "execute_result"
    }
   ],
   "source": [
    "df"
   ]
  },
  {
   "cell_type": "code",
   "execution_count": 38,
   "metadata": {},
   "outputs": [],
   "source": [
    "df = df[~df.apply(lambda x: x.apply(lambda x: x == 'NA -> geisoleerde tumorcellen')).any(axis=1)]"
   ]
  },
  {
   "cell_type": "code",
   "execution_count": 40,
   "metadata": {},
   "outputs": [
    {
     "ename": "ValueError",
     "evalue": "Could not interpret value `tils_per_area` for parameter `x`",
     "output_type": "error",
     "traceback": [
      "\u001b[0;31m---------------------------------------------------------------------------\u001b[0m",
      "\u001b[0;31mValueError\u001b[0m                                Traceback (most recent call last)",
      "Cell \u001b[0;32mIn[40], line 5\u001b[0m\n\u001b[1;32m      2\u001b[0m \u001b[39mimport\u001b[39;00m \u001b[39mmatplotlib\u001b[39;00m\u001b[39m.\u001b[39;00m\u001b[39mpyplot\u001b[39;00m \u001b[39mas\u001b[39;00m \u001b[39mplt\u001b[39;00m\n\u001b[1;32m      4\u001b[0m df \u001b[39m=\u001b[39m df\u001b[39m.\u001b[39msalgado\u001b[39m.\u001b[39msort_values(key\u001b[39m=\u001b[39m\u001b[39mlambda\u001b[39;00m x: x\u001b[39m.\u001b[39mapply(\u001b[39mlambda\u001b[39;00m x: \u001b[39mint\u001b[39m(x\u001b[39m.\u001b[39msplit(\u001b[39m'\u001b[39m\u001b[39m%\u001b[39m\u001b[39m'\u001b[39m)[\u001b[39m0\u001b[39m])))\n\u001b[0;32m----> 5\u001b[0m p \u001b[39m=\u001b[39m sn\u001b[39m.\u001b[39;49mswarmplot(df, x\u001b[39m=\u001b[39;49m\u001b[39m'\u001b[39;49m\u001b[39mtils_per_area\u001b[39;49m\u001b[39m'\u001b[39;49m, y\u001b[39m=\u001b[39;49m\u001b[39m'\u001b[39;49m\u001b[39msalgado\u001b[39;49m\u001b[39m'\u001b[39;49m, orient\u001b[39m=\u001b[39;49m\u001b[39m'\u001b[39;49m\u001b[39mh\u001b[39;49m\u001b[39m'\u001b[39;49m)\n\u001b[1;32m      6\u001b[0m plt\u001b[39m.\u001b[39mxticks(rotation\u001b[39m=\u001b[39m\u001b[39m90\u001b[39m)\n\u001b[1;32m      7\u001b[0m plt\u001b[39m.\u001b[39mshow()\n",
      "File \u001b[0;32m~/miniconda3/envs/rens/lib/python3.10/site-packages/seaborn/categorical.py:2624\u001b[0m, in \u001b[0;36mswarmplot\u001b[0;34m(data, x, y, hue, order, hue_order, dodge, orient, color, palette, size, edgecolor, linewidth, hue_norm, native_scale, formatter, legend, warn_thresh, ax, **kwargs)\u001b[0m\n\u001b[1;32m   2616\u001b[0m \u001b[39mdef\u001b[39;00m \u001b[39mswarmplot\u001b[39m(\n\u001b[1;32m   2617\u001b[0m     data\u001b[39m=\u001b[39m\u001b[39mNone\u001b[39;00m, \u001b[39m*\u001b[39m, x\u001b[39m=\u001b[39m\u001b[39mNone\u001b[39;00m, y\u001b[39m=\u001b[39m\u001b[39mNone\u001b[39;00m, hue\u001b[39m=\u001b[39m\u001b[39mNone\u001b[39;00m, order\u001b[39m=\u001b[39m\u001b[39mNone\u001b[39;00m, hue_order\u001b[39m=\u001b[39m\u001b[39mNone\u001b[39;00m,\n\u001b[1;32m   2618\u001b[0m     dodge\u001b[39m=\u001b[39m\u001b[39mFalse\u001b[39;00m, orient\u001b[39m=\u001b[39m\u001b[39mNone\u001b[39;00m, color\u001b[39m=\u001b[39m\u001b[39mNone\u001b[39;00m, palette\u001b[39m=\u001b[39m\u001b[39mNone\u001b[39;00m,\n\u001b[0;32m   (...)\u001b[0m\n\u001b[1;32m   2621\u001b[0m     ax\u001b[39m=\u001b[39m\u001b[39mNone\u001b[39;00m, \u001b[39m*\u001b[39m\u001b[39m*\u001b[39mkwargs\n\u001b[1;32m   2622\u001b[0m ):\n\u001b[0;32m-> 2624\u001b[0m     p \u001b[39m=\u001b[39m _CategoricalPlotterNew(\n\u001b[1;32m   2625\u001b[0m         data\u001b[39m=\u001b[39;49mdata,\n\u001b[1;32m   2626\u001b[0m         variables\u001b[39m=\u001b[39;49m_CategoricalPlotterNew\u001b[39m.\u001b[39;49mget_semantics(\u001b[39mlocals\u001b[39;49m()),\n\u001b[1;32m   2627\u001b[0m         order\u001b[39m=\u001b[39;49morder,\n\u001b[1;32m   2628\u001b[0m         orient\u001b[39m=\u001b[39;49morient,\n\u001b[1;32m   2629\u001b[0m         require_numeric\u001b[39m=\u001b[39;49m\u001b[39mFalse\u001b[39;49;00m,\n\u001b[1;32m   2630\u001b[0m         legend\u001b[39m=\u001b[39;49mlegend,\n\u001b[1;32m   2631\u001b[0m     )\n\u001b[1;32m   2633\u001b[0m     \u001b[39mif\u001b[39;00m ax \u001b[39mis\u001b[39;00m \u001b[39mNone\u001b[39;00m:\n\u001b[1;32m   2634\u001b[0m         ax \u001b[39m=\u001b[39m plt\u001b[39m.\u001b[39mgca()\n",
      "File \u001b[0;32m~/miniconda3/envs/rens/lib/python3.10/site-packages/seaborn/categorical.py:66\u001b[0m, in \u001b[0;36m_CategoricalPlotterNew.__init__\u001b[0;34m(self, data, variables, order, orient, require_numeric, legend)\u001b[0m\n\u001b[1;32m     56\u001b[0m \u001b[39mdef\u001b[39;00m \u001b[39m__init__\u001b[39m(\n\u001b[1;32m     57\u001b[0m     \u001b[39mself\u001b[39m,\n\u001b[1;32m     58\u001b[0m     data\u001b[39m=\u001b[39m\u001b[39mNone\u001b[39;00m,\n\u001b[0;32m   (...)\u001b[0m\n\u001b[1;32m     63\u001b[0m     legend\u001b[39m=\u001b[39m\u001b[39m\"\u001b[39m\u001b[39mauto\u001b[39m\u001b[39m\"\u001b[39m,\n\u001b[1;32m     64\u001b[0m ):\n\u001b[0;32m---> 66\u001b[0m     \u001b[39msuper\u001b[39;49m()\u001b[39m.\u001b[39;49m\u001b[39m__init__\u001b[39;49m(data\u001b[39m=\u001b[39;49mdata, variables\u001b[39m=\u001b[39;49mvariables)\n\u001b[1;32m     68\u001b[0m     \u001b[39m# This method takes care of some bookkeeping that is necessary because the\u001b[39;00m\n\u001b[1;32m     69\u001b[0m     \u001b[39m# original categorical plots (prior to the 2021 refactor) had some rules that\u001b[39;00m\n\u001b[1;32m     70\u001b[0m     \u001b[39m# don't fit exactly into the logic of _core. It may be wise to have a second\u001b[39;00m\n\u001b[0;32m   (...)\u001b[0m\n\u001b[1;32m     75\u001b[0m     \u001b[39m# wide_structure rules in _core. If we do decide to make orient part of the\u001b[39;00m\n\u001b[1;32m     76\u001b[0m     \u001b[39m# _core variable assignment, we'll want to figure out how to express that.\u001b[39;00m\n\u001b[1;32m     77\u001b[0m     \u001b[39mif\u001b[39;00m \u001b[39mself\u001b[39m\u001b[39m.\u001b[39minput_format \u001b[39m==\u001b[39m \u001b[39m\"\u001b[39m\u001b[39mwide\u001b[39m\u001b[39m\"\u001b[39m \u001b[39mand\u001b[39;00m orient \u001b[39m==\u001b[39m \u001b[39m\"\u001b[39m\u001b[39mh\u001b[39m\u001b[39m\"\u001b[39m:\n",
      "File \u001b[0;32m~/miniconda3/envs/rens/lib/python3.10/site-packages/seaborn/_oldcore.py:640\u001b[0m, in \u001b[0;36mVectorPlotter.__init__\u001b[0;34m(self, data, variables)\u001b[0m\n\u001b[1;32m    635\u001b[0m \u001b[39m# var_ordered is relevant only for categorical axis variables, and may\u001b[39;00m\n\u001b[1;32m    636\u001b[0m \u001b[39m# be better handled by an internal axis information object that tracks\u001b[39;00m\n\u001b[1;32m    637\u001b[0m \u001b[39m# such information and is set up by the scale_* methods. The analogous\u001b[39;00m\n\u001b[1;32m    638\u001b[0m \u001b[39m# information for numeric axes would be information about log scales.\u001b[39;00m\n\u001b[1;32m    639\u001b[0m \u001b[39mself\u001b[39m\u001b[39m.\u001b[39m_var_ordered \u001b[39m=\u001b[39m {\u001b[39m\"\u001b[39m\u001b[39mx\u001b[39m\u001b[39m\"\u001b[39m: \u001b[39mFalse\u001b[39;00m, \u001b[39m\"\u001b[39m\u001b[39my\u001b[39m\u001b[39m\"\u001b[39m: \u001b[39mFalse\u001b[39;00m}  \u001b[39m# alt., used DefaultDict\u001b[39;00m\n\u001b[0;32m--> 640\u001b[0m \u001b[39mself\u001b[39;49m\u001b[39m.\u001b[39;49massign_variables(data, variables)\n\u001b[1;32m    642\u001b[0m \u001b[39mfor\u001b[39;00m var, \u001b[39mcls\u001b[39m \u001b[39min\u001b[39;00m \u001b[39mself\u001b[39m\u001b[39m.\u001b[39m_semantic_mappings\u001b[39m.\u001b[39mitems():\n\u001b[1;32m    643\u001b[0m \n\u001b[1;32m    644\u001b[0m     \u001b[39m# Create the mapping function\u001b[39;00m\n\u001b[1;32m    645\u001b[0m     map_func \u001b[39m=\u001b[39m partial(\u001b[39mcls\u001b[39m\u001b[39m.\u001b[39mmap, plotter\u001b[39m=\u001b[39m\u001b[39mself\u001b[39m)\n",
      "File \u001b[0;32m~/miniconda3/envs/rens/lib/python3.10/site-packages/seaborn/_oldcore.py:701\u001b[0m, in \u001b[0;36mVectorPlotter.assign_variables\u001b[0;34m(self, data, variables)\u001b[0m\n\u001b[1;32m    699\u001b[0m \u001b[39melse\u001b[39;00m:\n\u001b[1;32m    700\u001b[0m     \u001b[39mself\u001b[39m\u001b[39m.\u001b[39minput_format \u001b[39m=\u001b[39m \u001b[39m\"\u001b[39m\u001b[39mlong\u001b[39m\u001b[39m\"\u001b[39m\n\u001b[0;32m--> 701\u001b[0m     plot_data, variables \u001b[39m=\u001b[39m \u001b[39mself\u001b[39;49m\u001b[39m.\u001b[39;49m_assign_variables_longform(\n\u001b[1;32m    702\u001b[0m         data, \u001b[39m*\u001b[39;49m\u001b[39m*\u001b[39;49mvariables,\n\u001b[1;32m    703\u001b[0m     )\n\u001b[1;32m    705\u001b[0m \u001b[39mself\u001b[39m\u001b[39m.\u001b[39mplot_data \u001b[39m=\u001b[39m plot_data\n\u001b[1;32m    706\u001b[0m \u001b[39mself\u001b[39m\u001b[39m.\u001b[39mvariables \u001b[39m=\u001b[39m variables\n",
      "File \u001b[0;32m~/miniconda3/envs/rens/lib/python3.10/site-packages/seaborn/_oldcore.py:938\u001b[0m, in \u001b[0;36mVectorPlotter._assign_variables_longform\u001b[0;34m(self, data, **kwargs)\u001b[0m\n\u001b[1;32m    933\u001b[0m \u001b[39melif\u001b[39;00m \u001b[39misinstance\u001b[39m(val, (\u001b[39mstr\u001b[39m, \u001b[39mbytes\u001b[39m)):\n\u001b[1;32m    934\u001b[0m \n\u001b[1;32m    935\u001b[0m     \u001b[39m# This looks like a column name but we don't know what it means!\u001b[39;00m\n\u001b[1;32m    937\u001b[0m     err \u001b[39m=\u001b[39m \u001b[39mf\u001b[39m\u001b[39m\"\u001b[39m\u001b[39mCould not interpret value `\u001b[39m\u001b[39m{\u001b[39;00mval\u001b[39m}\u001b[39;00m\u001b[39m` for parameter `\u001b[39m\u001b[39m{\u001b[39;00mkey\u001b[39m}\u001b[39;00m\u001b[39m`\u001b[39m\u001b[39m\"\u001b[39m\n\u001b[0;32m--> 938\u001b[0m     \u001b[39mraise\u001b[39;00m \u001b[39mValueError\u001b[39;00m(err)\n\u001b[1;32m    940\u001b[0m \u001b[39melse\u001b[39;00m:\n\u001b[1;32m    941\u001b[0m \n\u001b[1;32m    942\u001b[0m     \u001b[39m# Otherwise, assume the value is itself data\u001b[39;00m\n\u001b[1;32m    943\u001b[0m \n\u001b[1;32m    944\u001b[0m     \u001b[39m# Raise when data object is present and a vector can't matched\u001b[39;00m\n\u001b[1;32m    945\u001b[0m     \u001b[39mif\u001b[39;00m \u001b[39misinstance\u001b[39m(data, pd\u001b[39m.\u001b[39mDataFrame) \u001b[39mand\u001b[39;00m \u001b[39mnot\u001b[39;00m \u001b[39misinstance\u001b[39m(val, pd\u001b[39m.\u001b[39mSeries):\n",
      "\u001b[0;31mValueError\u001b[0m: Could not interpret value `tils_per_area` for parameter `x`"
     ]
    }
   ],
   "source": [
    "import seaborn as sn\n",
    "import matplotlib.pyplot as plt\n",
    "\n",
    "df = df.sort_values(by='salgado', key=lambda x: x.apply(lambda x: int(x.split('%')[0])))\n",
    "p = sn.swarmplot(df, x='tils_per_area', y='salgado', orient='h')\n",
    "plt.xticks(rotation=90)\n",
    "plt.show()"
   ]
  },
  {
   "cell_type": "code",
   "execution_count": 19,
   "metadata": {},
   "outputs": [
    {
     "data": {
      "text/plain": [
       "56"
      ]
     },
     "execution_count": 19,
     "metadata": {},
     "output_type": "execute_result"
    }
   ],
   "source": [
    "(~df.tils_per_area.isna()).sum()"
   ]
  },
  {
   "cell_type": "code",
   "execution_count": null,
   "metadata": {},
   "outputs": [],
   "source": []
  }
 ],
 "metadata": {
  "kernelspec": {
   "display_name": "rens",
   "language": "python",
   "name": "python3"
  },
  "language_info": {
   "codemirror_mode": {
    "name": "ipython",
    "version": 3
   },
   "file_extension": ".py",
   "mimetype": "text/x-python",
   "name": "python",
   "nbconvert_exporter": "python",
   "pygments_lexer": "ipython3",
   "version": "3.10.8 (main, Nov 24 2022, 14:13:03) [GCC 11.2.0]"
  },
  "orig_nbformat": 4,
  "vscode": {
   "interpreter": {
    "hash": "f8e58b914173e9e26bec900a798eebdc4c2c2b3000f2ddebd76fb88687c28df0"
   }
  }
 },
 "nbformat": 4,
 "nbformat_minor": 2
}
