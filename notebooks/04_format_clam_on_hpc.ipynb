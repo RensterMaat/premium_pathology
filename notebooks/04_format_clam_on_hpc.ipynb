{
 "cells": [
  {
   "cell_type": "code",
   "execution_count": 1,
   "metadata": {},
   "outputs": [
    {
     "name": "stderr",
     "output_type": "stream",
     "text": [
      "/tmp/ipykernel_24306/508218498.py:7: DtypeWarning: Columns (27,29,175,234,249,259,275,281,313,318,351,393,440,538,547,550,578,585,591,654,660,662,663,664,666,667,669,670,671,676,677,679,680,681,682,685,794,797,805,808,809,818,819,821,822,823,828,851,852,854,855,856,863,864,866,867,868,869,870,872,873,874,875,876,878,879,880,881,882,884,885,886,899,900,902,903,904,905,906,908,909,910,911,912,914,915,916,917,918,920,921,922,924) have mixed types. Specify dtype option on import or set low_memory=False.\n",
      "  dmtr = pd.read_csv(r.parent.parent.parent / 'rens' / 'tables' / 'dmtr.csv').set_index('id')\n"
     ]
    }
   ],
   "source": [
    "from pathlib import Path\n",
    "import pandas as pd\n",
    "import os\n",
    "\n",
    "r = Path('/mnt/hpc/pathology/clam_features/primary_vs_metastasis')\n",
    "\n",
    "dmtr = pd.read_csv(r.parent.parent.parent / 'rens' / 'tables' / 'dmtr.csv').set_index('id')\n",
    "prim_vs_met = pd.read_csv('/mnt/hpc/rens/CLAM/dataset_csv/primary_vs_metastasis.csv').set_index('slide_id')\n"
   ]
  },
  {
   "cell_type": "code",
   "execution_count": 2,
   "metadata": {},
   "outputs": [],
   "source": [
    "case_id = []\n",
    "slide_id = []\n",
    "response = []\n",
    "metastasis = []\n",
    "# for root, _, files in os.walk(r / 'primary'):\n",
    "#     pt_files = [f for f in files if f.endswith('.pt')]\n",
    "#     if pt_files:\n",
    "#         slide_id.extend([f[:-3]\n",
    "#         primary.extend(['primary'] * len(pt_files))\n",
    "#         if 'maxima' in root:\n",
    "#             case_id.extend([f.split(' ')[0].replace('-','_')\n",
    "#         if 'umcu' in root:\n",
    "#             case_id.extend(['_'.join(f.replace('-','_').replace(' ','_').split('_')[:2])\n",
    "#         if 'radboud' in root:\n",
    "#             case_id.extend([f[:11].replace('-','_')\n",
    "#         if 'zuyderland' in root:\n",
    "#             case_id.extend([f[:11].replace('-','_')\n",
    "#         if 'lumc' in root:\n",
    "#             case_id.extend(['PREM' + f.split('PREM')[1][:7].replace('-','_')\n",
    "#         if 'vumc' in root:\n",
    "#             case_id.extend([f[:11]\n",
    "#         if 'mst' in root:\n",
    "#             case_id.extend([f[:11].replace('-','_')\n",
    "#         if 'isala' in root:\n",
    "#             case_id.extend([f[:11].replace('-','_')\n",
    "#         if 'amphia' in root:\n",
    "#             case_id.extend([f[:11].replace('-','_')\n",
    "\n",
    "for root, _, files in os.walk(r):\n",
    "    pt_files = [f for f in files if f.endswith('.pt')]\n",
    "    for file in pt_files:\n",
    "\n",
    "        slide_id.append(file[:-3])\n",
    "        if 'MAX-' in file:\n",
    "            patient = file.split(' ')[0].replace('-','_').replace('_9hy6vdr5tygrr','')\n",
    "        if 'UNI-' in file or 'IM' in file or 'M' in file:\n",
    "            patient = '_'.join(file.replace('-','_').replace(' ','_').split('_')[:2])\n",
    "        if 'PREM-RA-' in file:\n",
    "            patient = file[:11].replace('-','_')\n",
    "        if 'PREM_ZU_' in file:\n",
    "            patient = file[:11].replace('-','_')\n",
    "        if 'PREM-LU-' in file:\n",
    "            patient = 'PREM' + file.split('PREM')[1][:7].replace('-','_')\n",
    "        if 'PREM_VU_' in file:\n",
    "            patient = file[:11]\n",
    "        if 'PREM-MS-' in file:\n",
    "            patient = file[:11].replace('-','_')\n",
    "        if 'PREM-IS-' in file:\n",
    "            patient = file[:11].replace('-','_')\n",
    "        if 'PREM-AM-' in file:\n",
    "            patient = file[:11].replace('-','_')\n",
    "\n",
    "        try:\n",
    "            metastasis.append(prim_vs_met.loc[file[:-3], 'primary'] == 'metastasis')   \n",
    "        except:\n",
    "            metastasis.append(True)\n",
    "        \n",
    "        case_id.append(patient)\n",
    "        try:\n",
    "            response.append(dmtr.loc[patient, 'response'])\n",
    "        except Exception as e:\n",
    "            response.append(float('nan'))\n",
    "\n",
    "df = pd.DataFrame(data={\n",
    "    'case_id':case_id,\n",
    "    'slide_id':slide_id,\n",
    "    'response': response,\n",
    "    'metastasis':metastasis\n",
    "})\n",
    "\n",
    "metastasis_only = df[df.metastasis].drop(columns=['metastasis']).replace({'response':{0:'no_response',1:'response'}})\n",
    "metastasis_only = metastasis_only.dropna()\n",
    "\n",
    "bad = [\n",
    "    'PREM-AM-003__ - 2021-11-04 11.35.09',\n",
    "    'PREM-AM-003__ - 2021-11-04 11.35.09',\n",
    "    'PREM-AM-013__ - 2021-11-04 11.16.34',\n",
    "    'PREM-AM-029__ - 2021-11-04 09.40.15',\n",
    "    'PREM-AM-029__II - 2021-11-04 09.46.16',\n",
    "    'PREM-AM-048__ - 2021-11-04 10.44.34',\n",
    "    'PREM-AM-052__ - 2021-11-04 10.35.01',\n",
    "    'PREM-AM-084__ - 2021-11-04 12.40.30',\n",
    "    'PREM-AM-094__ - 2021-11-04 12.22.41',\n",
    "    'PREM-AM-112__ - 2021-11-04 12.01.25',\n",
    "    '2A_HE MD_PREM-LU-416 - 2021-06-16 10.00.47',\n",
    "    'MAX-060 259615432a - 2022-09-29 12.44.28',\n",
    "    'PREM-RA-017_1ca56bd887 HE1',\n",
    "    'IM_046_8af4fb5881-I1_HE  1-001',\n",
    "    'IM_161_4aae1a3640-I1_HE  1-001',\n",
    "    'IM_161_4aae1a3640-I1_HE  1-003',\n",
    "    'UNI-027_7bcf0a9271-I1_HE  1-002',\n",
    "    'PREM_ZU_002 - c16-53153 - 2021-08-12 15.18.13',\n",
    "    'PREM_ZU_023 - C18-001050-I-4 - 2021-08-13 11.00.42',\n",
    "    'PREM_ZU_023 - C18-001050-I-5 - 2021-08-13 11.01.25',\n",
    "    'PREM_ZU_023 - C18-001050-I-5 - 2021-08-13 11.01.50',\n",
    "    'PREM_ZU_023 - C18-001050-I-A-1 - 2021-08-13 11.02.20',\n",
    "\n",
    "    'PREM_ZU_002 - c16-53153 - 2021-08-12 15.27.59',\n",
    "    'PREM_ZU_002 - C16-53153 - 2021-08-12 15.24.39',\n",
    "    'PREM_ZU_020 - C16-50968 - 2021-08-13 10.59.56',\n",
    "    'PREM_ZU_030 - T19-000029-I-A-4 - 2021-08-12 15.34.38',\n",
    "    'PREM_ZU_020 - C16-50968 - 2021-08-13 10.58.33',\n",
    "    'PREM_ZU_002 - c16-53153 - 2021-08-12 15.25.24',\n",
    "    'PREM_ZU_020 - C16-50968 - 2021-08-13 10.57.01'\n",
    "]\n",
    "\n",
    "metastasis_only = metastasis_only[~(metastasis_only.slide_id.isin(bad))]"
   ]
  },
  {
   "cell_type": "code",
   "execution_count": 24,
   "metadata": {},
   "outputs": [],
   "source": [
    "metastasis_only.to_csv('/mnt/hpc/rens/CLAM/dataset_csv/metastasis_response.csv', index=False)"
   ]
  },
  {
   "cell_type": "code",
   "execution_count": 10,
   "metadata": {},
   "outputs": [],
   "source": []
  },
  {
   "cell_type": "code",
   "execution_count": 11,
   "metadata": {},
   "outputs": [],
   "source": [
    "previous = pd.read_csv('/mnt/hpc/rens/CLAM/dataset_csv/metastasis_response.csv')"
   ]
  },
  {
   "cell_type": "code",
   "execution_count": 14,
   "metadata": {},
   "outputs": [],
   "source": [
    "new_slides = [slide for slide in metastasis_only.slide_id.values if not slide in previous.slide_id.values]"
   ]
  },
  {
   "cell_type": "code",
   "execution_count": null,
   "metadata": {},
   "outputs": [],
   "source": []
  },
  {
   "cell_type": "code",
   "execution_count": 17,
   "metadata": {},
   "outputs": [
    {
     "data": {
      "text/plain": [
       "['MAX-021 32fd721f35 - 2022-09-29 12.01.19',\n",
       " 'MAX-012_9hy6vdr5tygrr - 2022-11-10 13.17.48',\n",
       " 'PREM_ZU_002 - c16-53153 - 2021-08-12 15.27.59',\n",
       " 'PREM_ZU_002 - C16-53153 - 2021-08-12 15.24.39',\n",
       " 'PREM_ZU_020 - C16-50968 - 2021-08-13 10.59.56',\n",
       " 'PREM_ZU_030 - T19-000029-I-A-4 - 2021-08-12 15.34.38',\n",
       " 'MAX-063 9683d525ce - 2022-09-29 11.58.41',\n",
       " 'MAX-089 6ee5b4e028 - 2022-09-29 12.03.52',\n",
       " 'PREM_ZU_020 - C16-50968 - 2021-08-13 10.58.33',\n",
       " 'MAX-111 4e227ee815 - 2022-09-29 11.41.24',\n",
       " 'PREM_VU_160 58ef7bf546 - 2022-06-14 09.46.28',\n",
       " 'PREM_ZU_002 - c16-53153 - 2021-08-12 15.25.24',\n",
       " 'MAX-032 a168bdef25 - 2022-09-29 11.51.23',\n",
       " 'PREM_ZU_020 - C16-50968 - 2021-08-13 10.57.01']"
      ]
     },
     "execution_count": 17,
     "metadata": {},
     "output_type": "execute_result"
    }
   ],
   "source": [
    "[s for s in new_slides if not ('UNI' in s or 'PREM-RA' in s or 'IM' in s or 'M-' in s)]"
   ]
  },
  {
   "cell_type": "code",
   "execution_count": null,
   "metadata": {},
   "outputs": [],
   "source": []
  },
  {
   "cell_type": "code",
   "execution_count": null,
   "metadata": {},
   "outputs": [],
   "source": []
  },
  {
   "cell_type": "code",
   "execution_count": null,
   "metadata": {},
   "outputs": [],
   "source": []
  },
  {
   "cell_type": "code",
   "execution_count": null,
   "metadata": {},
   "outputs": [],
   "source": []
  },
  {
   "cell_type": "code",
   "execution_count": null,
   "metadata": {},
   "outputs": [],
   "source": []
  },
  {
   "cell_type": "code",
   "execution_count": null,
   "metadata": {},
   "outputs": [],
   "source": []
  },
  {
   "cell_type": "code",
   "execution_count": null,
   "metadata": {},
   "outputs": [],
   "source": []
  },
  {
   "cell_type": "code",
   "execution_count": 175,
   "metadata": {},
   "outputs": [],
   "source": []
  },
  {
   "cell_type": "code",
   "execution_count": 82,
   "metadata": {},
   "outputs": [
    {
     "data": {
      "text/plain": [
       "1488"
      ]
     },
     "execution_count": 82,
     "metadata": {},
     "output_type": "execute_result"
    }
   ],
   "source": [
    "len(case_id)"
   ]
  },
  {
   "cell_type": "code",
   "execution_count": 4,
   "metadata": {},
   "outputs": [],
   "source": [
    "df.to_csv('/mnt/hpc/rens/CLAM/dataset_csv/primary_vs_metastasis.csv', index=False)"
   ]
  },
  {
   "cell_type": "code",
   "execution_count": 7,
   "metadata": {},
   "outputs": [],
   "source": [
    "df.replace({'primary':{1:'primary',0:'metastasis'}}).to_csv('/mnt/hpc/rens/CLAM/dataset_csv/primary_vs_metastasis.csv', index=False)"
   ]
  },
  {
   "cell_type": "code",
   "execution_count": 52,
   "metadata": {},
   "outputs": [],
   "source": [
    "import shutil\n",
    "\n",
    "target = r / 'primary_vs_metastasis'\n",
    "for part in list(r.iterdir())[:-1]:\n",
    "    for center in part.iterdir():\n",
    "        for f in (center / 'h5_files').iterdir():\n",
    "            shutil.move(\n",
    "                f,\n",
    "                target / 'h5_files' / f.name\n",
    "            )\n",
    "        for f in (center / 'pt_files').iterdir():\n",
    "            shutil.move(\n",
    "                f,\n",
    "                target / 'pt_files' / f.name\n",
    "            )"
   ]
  },
  {
   "cell_type": "code",
   "execution_count": 156,
   "metadata": {},
   "outputs": [],
   "source": [
    "metastasis_only = pd.read_csv('/mnt/hpc/rens/CLAM/dataset_csv/metastasis_response.csv')"
   ]
  },
  {
   "cell_type": "code",
   "execution_count": 164,
   "metadata": {},
   "outputs": [
    {
     "data": {
      "text/html": [
       "<div>\n",
       "<style scoped>\n",
       "    .dataframe tbody tr th:only-of-type {\n",
       "        vertical-align: middle;\n",
       "    }\n",
       "\n",
       "    .dataframe tbody tr th {\n",
       "        vertical-align: top;\n",
       "    }\n",
       "\n",
       "    .dataframe thead th {\n",
       "        text-align: right;\n",
       "    }\n",
       "</style>\n",
       "<table border=\"1\" class=\"dataframe\">\n",
       "  <thead>\n",
       "    <tr style=\"text-align: right;\">\n",
       "      <th></th>\n",
       "      <th>case_id</th>\n",
       "      <th>slide_id</th>\n",
       "      <th>response</th>\n",
       "    </tr>\n",
       "  </thead>\n",
       "  <tbody>\n",
       "    <tr>\n",
       "      <th>0</th>\n",
       "      <td>PREM_ZU_038</td>\n",
       "      <td>PREM_ZU_038 - T20-020312-I-S-1 - 2021-08-12 15...</td>\n",
       "      <td>no_response</td>\n",
       "    </tr>\n",
       "    <tr>\n",
       "      <th>1</th>\n",
       "      <td>PREM_VU_102</td>\n",
       "      <td>PREM_VU_102 71d95b93cb - 2022-06-14 11.49.03</td>\n",
       "      <td>response</td>\n",
       "    </tr>\n",
       "    <tr>\n",
       "      <th>2</th>\n",
       "      <td>PREM_ZU_036</td>\n",
       "      <td>PREM_ZU_036 - T17-5592534 - 2021-08-13 14.03.27</td>\n",
       "      <td>no_response</td>\n",
       "    </tr>\n",
       "    <tr>\n",
       "      <th>3</th>\n",
       "      <td>MAX_135</td>\n",
       "      <td>MAX-135 7c594aacd2 - 2022-09-29 11.53.53</td>\n",
       "      <td>no_response</td>\n",
       "    </tr>\n",
       "    <tr>\n",
       "      <th>4</th>\n",
       "      <td>UNI_029</td>\n",
       "      <td>IM_030_d405a26bdd-I1_HE  2-003</td>\n",
       "      <td>no_response</td>\n",
       "    </tr>\n",
       "    <tr>\n",
       "      <th>...</th>\n",
       "      <td>...</td>\n",
       "      <td>...</td>\n",
       "      <td>...</td>\n",
       "    </tr>\n",
       "    <tr>\n",
       "      <th>708</th>\n",
       "      <td>PREM_MS_289</td>\n",
       "      <td>PREM-MS-289_7596e51925 HE1 Metastasegq - 2022-...</td>\n",
       "      <td>response</td>\n",
       "    </tr>\n",
       "    <tr>\n",
       "      <th>709</th>\n",
       "      <td>PREM_MS_289</td>\n",
       "      <td>IM_015_678b3f808f-I1_HE  1-002</td>\n",
       "      <td>response</td>\n",
       "    </tr>\n",
       "    <tr>\n",
       "      <th>710</th>\n",
       "      <td>PREM_VU_191</td>\n",
       "      <td>PREM_VU_191 597d4ae2e7 - 2022-06-14 11.46.56</td>\n",
       "      <td>no_response</td>\n",
       "    </tr>\n",
       "    <tr>\n",
       "      <th>711</th>\n",
       "      <td>PREM_LU_561</td>\n",
       "      <td>1A__PREM-LU-561 - 2021-06-15 16.32.37</td>\n",
       "      <td>no_response</td>\n",
       "    </tr>\n",
       "    <tr>\n",
       "      <th>712</th>\n",
       "      <td>PREM_AM_013</td>\n",
       "      <td>PREM-AM-013__ - 2021-11-04 11.16.34</td>\n",
       "      <td>no_response</td>\n",
       "    </tr>\n",
       "  </tbody>\n",
       "</table>\n",
       "<p>713 rows × 3 columns</p>\n",
       "</div>"
      ],
      "text/plain": [
       "         case_id                                           slide_id  \\\n",
       "0    PREM_ZU_038  PREM_ZU_038 - T20-020312-I-S-1 - 2021-08-12 15...   \n",
       "1    PREM_VU_102       PREM_VU_102 71d95b93cb - 2022-06-14 11.49.03   \n",
       "2    PREM_ZU_036    PREM_ZU_036 - T17-5592534 - 2021-08-13 14.03.27   \n",
       "3        MAX_135           MAX-135 7c594aacd2 - 2022-09-29 11.53.53   \n",
       "4        UNI_029                     IM_030_d405a26bdd-I1_HE  2-003   \n",
       "..           ...                                                ...   \n",
       "708  PREM_MS_289  PREM-MS-289_7596e51925 HE1 Metastasegq - 2022-...   \n",
       "709  PREM_MS_289                     IM_015_678b3f808f-I1_HE  1-002   \n",
       "710  PREM_VU_191       PREM_VU_191 597d4ae2e7 - 2022-06-14 11.46.56   \n",
       "711  PREM_LU_561              1A__PREM-LU-561 - 2021-06-15 16.32.37   \n",
       "712  PREM_AM_013                PREM-AM-013__ - 2021-11-04 11.16.34   \n",
       "\n",
       "        response  \n",
       "0    no_response  \n",
       "1       response  \n",
       "2    no_response  \n",
       "3    no_response  \n",
       "4    no_response  \n",
       "..           ...  \n",
       "708     response  \n",
       "709     response  \n",
       "710  no_response  \n",
       "711  no_response  \n",
       "712  no_response  \n",
       "\n",
       "[713 rows x 3 columns]"
      ]
     },
     "execution_count": 164,
     "metadata": {},
     "output_type": "execute_result"
    }
   ],
   "source": [
    "metastasis_only"
   ]
  },
  {
   "cell_type": "code",
   "execution_count": 192,
   "metadata": {},
   "outputs": [],
   "source": [
    "split0 = pd.read_csv('/mnt/hpc/rens/CLAM/splits/task_4_metastasis_response_100/splits_0_bool.csv').set_index('Unnamed: 0')"
   ]
  },
  {
   "cell_type": "code",
   "execution_count": 193,
   "metadata": {},
   "outputs": [
    {
     "data": {
      "text/html": [
       "<div>\n",
       "<style scoped>\n",
       "    .dataframe tbody tr th:only-of-type {\n",
       "        vertical-align: middle;\n",
       "    }\n",
       "\n",
       "    .dataframe tbody tr th {\n",
       "        vertical-align: top;\n",
       "    }\n",
       "\n",
       "    .dataframe thead th {\n",
       "        text-align: right;\n",
       "    }\n",
       "</style>\n",
       "<table border=\"1\" class=\"dataframe\">\n",
       "  <thead>\n",
       "    <tr style=\"text-align: right;\">\n",
       "      <th></th>\n",
       "      <th>train</th>\n",
       "      <th>val</th>\n",
       "      <th>test</th>\n",
       "    </tr>\n",
       "    <tr>\n",
       "      <th>Unnamed: 0</th>\n",
       "      <th></th>\n",
       "      <th></th>\n",
       "      <th></th>\n",
       "    </tr>\n",
       "  </thead>\n",
       "  <tbody>\n",
       "    <tr>\n",
       "      <th>IM_004_ff63eb3c79-II7_HE  1-025</th>\n",
       "      <td>True</td>\n",
       "      <td>False</td>\n",
       "      <td>False</td>\n",
       "    </tr>\n",
       "    <tr>\n",
       "      <th>IM_004_ff63eb3c79-I5_HE  1-019</th>\n",
       "      <td>True</td>\n",
       "      <td>False</td>\n",
       "      <td>False</td>\n",
       "    </tr>\n",
       "    <tr>\n",
       "      <th>IM_004_ff63eb3c79-I5_HE  2-023</th>\n",
       "      <td>True</td>\n",
       "      <td>False</td>\n",
       "      <td>False</td>\n",
       "    </tr>\n",
       "    <tr>\n",
       "      <th>IM_004_ff63eb3c79-VII3_HE  1-013</th>\n",
       "      <td>True</td>\n",
       "      <td>False</td>\n",
       "      <td>False</td>\n",
       "    </tr>\n",
       "    <tr>\n",
       "      <th>IM_004_ff63eb3c79-III2_HE  1-040</th>\n",
       "      <td>True</td>\n",
       "      <td>False</td>\n",
       "      <td>False</td>\n",
       "    </tr>\n",
       "    <tr>\n",
       "      <th>...</th>\n",
       "      <td>...</td>\n",
       "      <td>...</td>\n",
       "      <td>...</td>\n",
       "    </tr>\n",
       "    <tr>\n",
       "      <th>PREM-IS-074_fab78c9efd II1 HE1 - 2022-03-24 17.39.37</th>\n",
       "      <td>False</td>\n",
       "      <td>False</td>\n",
       "      <td>True</td>\n",
       "    </tr>\n",
       "    <tr>\n",
       "      <th>IM_085_2847946502-I4_HE  1-003</th>\n",
       "      <td>False</td>\n",
       "      <td>False</td>\n",
       "      <td>True</td>\n",
       "    </tr>\n",
       "    <tr>\n",
       "      <th>IM_085_2847946502-I2_HE  1-001</th>\n",
       "      <td>False</td>\n",
       "      <td>False</td>\n",
       "      <td>True</td>\n",
       "    </tr>\n",
       "    <tr>\n",
       "      <th>IM_085_2847946502-I3_HE  1-002</th>\n",
       "      <td>False</td>\n",
       "      <td>False</td>\n",
       "      <td>True</td>\n",
       "    </tr>\n",
       "    <tr>\n",
       "      <th>IM_085_2847946502-I1_HE  1-004</th>\n",
       "      <td>False</td>\n",
       "      <td>False</td>\n",
       "      <td>True</td>\n",
       "    </tr>\n",
       "  </tbody>\n",
       "</table>\n",
       "<p>721 rows × 3 columns</p>\n",
       "</div>"
      ],
      "text/plain": [
       "                                                    train    val   test\n",
       "Unnamed: 0                                                             \n",
       "IM_004_ff63eb3c79-II7_HE  1-025                      True  False  False\n",
       "IM_004_ff63eb3c79-I5_HE  1-019                       True  False  False\n",
       "IM_004_ff63eb3c79-I5_HE  2-023                       True  False  False\n",
       "IM_004_ff63eb3c79-VII3_HE  1-013                     True  False  False\n",
       "IM_004_ff63eb3c79-III2_HE  1-040                     True  False  False\n",
       "...                                                   ...    ...    ...\n",
       "PREM-IS-074_fab78c9efd II1 HE1 - 2022-03-24 17....  False  False   True\n",
       "IM_085_2847946502-I4_HE  1-003                      False  False   True\n",
       "IM_085_2847946502-I2_HE  1-001                      False  False   True\n",
       "IM_085_2847946502-I3_HE  1-002                      False  False   True\n",
       "IM_085_2847946502-I1_HE  1-004                      False  False   True\n",
       "\n",
       "[721 rows x 3 columns]"
      ]
     },
     "execution_count": 193,
     "metadata": {},
     "output_type": "execute_result"
    }
   ],
   "source": [
    "split0"
   ]
  },
  {
   "cell_type": "code",
   "execution_count": 194,
   "metadata": {},
   "outputs": [],
   "source": [
    "patient = []\n",
    "for index in split0.index:\n",
    "    patient.append(metastasis_only.set_index('slide_id').loc[index,'case_id'])\n",
    "\n",
    "split0['case_id'] = patient"
   ]
  },
  {
   "cell_type": "code",
   "execution_count": 195,
   "metadata": {},
   "outputs": [],
   "source": [
    "train = split0[split0.train].case_id.unique()\n",
    "val = split0[split0.val].case_id.unique()\n",
    "test = split0[split0.test].case_id.unique()"
   ]
  },
  {
   "cell_type": "code",
   "execution_count": 197,
   "metadata": {},
   "outputs": [
    {
     "data": {
      "text/plain": [
       "[]"
      ]
     },
     "execution_count": 197,
     "metadata": {},
     "output_type": "execute_result"
    }
   ],
   "source": [
    "[pt for pt in train if pt in val]"
   ]
  },
  {
   "cell_type": "code",
   "execution_count": 199,
   "metadata": {},
   "outputs": [
    {
     "data": {
      "text/html": [
       "<div>\n",
       "<style scoped>\n",
       "    .dataframe tbody tr th:only-of-type {\n",
       "        vertical-align: middle;\n",
       "    }\n",
       "\n",
       "    .dataframe tbody tr th {\n",
       "        vertical-align: top;\n",
       "    }\n",
       "\n",
       "    .dataframe thead th {\n",
       "        text-align: right;\n",
       "    }\n",
       "</style>\n",
       "<table border=\"1\" class=\"dataframe\">\n",
       "  <thead>\n",
       "    <tr style=\"text-align: right;\">\n",
       "      <th></th>\n",
       "      <th>train</th>\n",
       "      <th>val</th>\n",
       "      <th>test</th>\n",
       "      <th>case_id</th>\n",
       "    </tr>\n",
       "    <tr>\n",
       "      <th>Unnamed: 0</th>\n",
       "      <th></th>\n",
       "      <th></th>\n",
       "      <th></th>\n",
       "      <th></th>\n",
       "    </tr>\n",
       "  </thead>\n",
       "  <tbody>\n",
       "    <tr>\n",
       "      <th>IM_004_ff63eb3c79-II7_HE  1-025</th>\n",
       "      <td>True</td>\n",
       "      <td>False</td>\n",
       "      <td>False</td>\n",
       "      <td>IM_004</td>\n",
       "    </tr>\n",
       "    <tr>\n",
       "      <th>IM_004_ff63eb3c79-I5_HE  1-019</th>\n",
       "      <td>True</td>\n",
       "      <td>False</td>\n",
       "      <td>False</td>\n",
       "      <td>IM_004</td>\n",
       "    </tr>\n",
       "    <tr>\n",
       "      <th>IM_004_ff63eb3c79-I5_HE  2-023</th>\n",
       "      <td>True</td>\n",
       "      <td>False</td>\n",
       "      <td>False</td>\n",
       "      <td>IM_004</td>\n",
       "    </tr>\n",
       "    <tr>\n",
       "      <th>IM_004_ff63eb3c79-VII3_HE  1-013</th>\n",
       "      <td>True</td>\n",
       "      <td>False</td>\n",
       "      <td>False</td>\n",
       "      <td>IM_004</td>\n",
       "    </tr>\n",
       "    <tr>\n",
       "      <th>IM_004_ff63eb3c79-III2_HE  1-040</th>\n",
       "      <td>True</td>\n",
       "      <td>False</td>\n",
       "      <td>False</td>\n",
       "      <td>IM_004</td>\n",
       "    </tr>\n",
       "    <tr>\n",
       "      <th>...</th>\n",
       "      <td>...</td>\n",
       "      <td>...</td>\n",
       "      <td>...</td>\n",
       "      <td>...</td>\n",
       "    </tr>\n",
       "    <tr>\n",
       "      <th>PREM-IS-074_fab78c9efd II1 HE1 - 2022-03-24 17.39.37</th>\n",
       "      <td>False</td>\n",
       "      <td>False</td>\n",
       "      <td>True</td>\n",
       "      <td>PREM_IS_074</td>\n",
       "    </tr>\n",
       "    <tr>\n",
       "      <th>IM_085_2847946502-I4_HE  1-003</th>\n",
       "      <td>False</td>\n",
       "      <td>False</td>\n",
       "      <td>True</td>\n",
       "      <td>IM_085</td>\n",
       "    </tr>\n",
       "    <tr>\n",
       "      <th>IM_085_2847946502-I2_HE  1-001</th>\n",
       "      <td>False</td>\n",
       "      <td>False</td>\n",
       "      <td>True</td>\n",
       "      <td>IM_085</td>\n",
       "    </tr>\n",
       "    <tr>\n",
       "      <th>IM_085_2847946502-I3_HE  1-002</th>\n",
       "      <td>False</td>\n",
       "      <td>False</td>\n",
       "      <td>True</td>\n",
       "      <td>IM_085</td>\n",
       "    </tr>\n",
       "    <tr>\n",
       "      <th>IM_085_2847946502-I1_HE  1-004</th>\n",
       "      <td>False</td>\n",
       "      <td>False</td>\n",
       "      <td>True</td>\n",
       "      <td>IM_085</td>\n",
       "    </tr>\n",
       "  </tbody>\n",
       "</table>\n",
       "<p>721 rows × 4 columns</p>\n",
       "</div>"
      ],
      "text/plain": [
       "                                                    train    val   test  \\\n",
       "Unnamed: 0                                                                \n",
       "IM_004_ff63eb3c79-II7_HE  1-025                      True  False  False   \n",
       "IM_004_ff63eb3c79-I5_HE  1-019                       True  False  False   \n",
       "IM_004_ff63eb3c79-I5_HE  2-023                       True  False  False   \n",
       "IM_004_ff63eb3c79-VII3_HE  1-013                     True  False  False   \n",
       "IM_004_ff63eb3c79-III2_HE  1-040                     True  False  False   \n",
       "...                                                   ...    ...    ...   \n",
       "PREM-IS-074_fab78c9efd II1 HE1 - 2022-03-24 17....  False  False   True   \n",
       "IM_085_2847946502-I4_HE  1-003                      False  False   True   \n",
       "IM_085_2847946502-I2_HE  1-001                      False  False   True   \n",
       "IM_085_2847946502-I3_HE  1-002                      False  False   True   \n",
       "IM_085_2847946502-I1_HE  1-004                      False  False   True   \n",
       "\n",
       "                                                        case_id  \n",
       "Unnamed: 0                                                       \n",
       "IM_004_ff63eb3c79-II7_HE  1-025                          IM_004  \n",
       "IM_004_ff63eb3c79-I5_HE  1-019                           IM_004  \n",
       "IM_004_ff63eb3c79-I5_HE  2-023                           IM_004  \n",
       "IM_004_ff63eb3c79-VII3_HE  1-013                         IM_004  \n",
       "IM_004_ff63eb3c79-III2_HE  1-040                         IM_004  \n",
       "...                                                         ...  \n",
       "PREM-IS-074_fab78c9efd II1 HE1 - 2022-03-24 17....  PREM_IS_074  \n",
       "IM_085_2847946502-I4_HE  1-003                           IM_085  \n",
       "IM_085_2847946502-I2_HE  1-001                           IM_085  \n",
       "IM_085_2847946502-I3_HE  1-002                           IM_085  \n",
       "IM_085_2847946502-I1_HE  1-004                           IM_085  \n",
       "\n",
       "[721 rows x 4 columns]"
      ]
     },
     "execution_count": 199,
     "metadata": {},
     "output_type": "execute_result"
    }
   ],
   "source": [
    "split0"
   ]
  },
  {
   "cell_type": "code",
   "execution_count": 144,
   "metadata": {},
   "outputs": [
    {
     "data": {
      "text/plain": [
       "534.75"
      ]
     },
     "execution_count": 144,
     "metadata": {},
     "output_type": "execute_result"
    }
   ],
   "source": [
    "713 * 0.75"
   ]
  },
  {
   "cell_type": "code",
   "execution_count": null,
   "metadata": {},
   "outputs": [],
   "source": []
  }
 ],
 "metadata": {
  "kernelspec": {
   "display_name": "rens",
   "language": "python",
   "name": "python3"
  },
  "language_info": {
   "codemirror_mode": {
    "name": "ipython",
    "version": 3
   },
   "file_extension": ".py",
   "mimetype": "text/x-python",
   "name": "python",
   "nbconvert_exporter": "python",
   "pygments_lexer": "ipython3",
   "version": "3.10.8"
  },
  "orig_nbformat": 4,
  "vscode": {
   "interpreter": {
    "hash": "f8e58b914173e9e26bec900a798eebdc4c2c2b3000f2ddebd76fb88687c28df0"
   }
  }
 },
 "nbformat": 4,
 "nbformat_minor": 2
}
