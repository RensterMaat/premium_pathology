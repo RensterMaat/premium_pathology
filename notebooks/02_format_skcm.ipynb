{
 "cells": [
  {
   "cell_type": "code",
   "execution_count": null,
   "metadata": {},
   "outputs": [],
   "source": [
    "from pathlib import Path\n",
    "import shutil\n",
    "import os\n",
    "\n",
    "r = Path('/hpc/dla_patho/premium/tcga_skcm/slides')\n",
    "\n",
    "for folder in r.iterdir():\n",
    "    for file in folder.iterdir():\n",
    "        if file.name.startswith(\"TCGA\"):\n",
    "            print(file)\n",
    "            destination = r / file.name\n",
    "            print(destination)\n",
    "            shutil.move(file, destination)"
   ]
  },
  {
   "cell_type": "code",
   "execution_count": null,
   "metadata": {},
   "outputs": [],
   "source": []
  }
 ],
 "metadata": {
  "kernelspec": {
   "display_name": "Python 3.10.4 ('rens': conda)",
   "language": "python",
   "name": "python3"
  },
  "language_info": {
   "codemirror_mode": {
    "name": "ipython",
    "version": 3
   },
   "file_extension": ".py",
   "mimetype": "text/x-python",
   "name": "python",
   "nbconvert_exporter": "python",
   "pygments_lexer": "ipython3",
   "version": "3.10.4"
  },
  "orig_nbformat": 4,
  "vscode": {
   "interpreter": {
    "hash": "e693bef9bdebce2a59664ada75896be08cacd74ce8c5ad8d597d780fa8f15f71"
   }
  }
 },
 "nbformat": 4,
 "nbformat_minor": 2
}
