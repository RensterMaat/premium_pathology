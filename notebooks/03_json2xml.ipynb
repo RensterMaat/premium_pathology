{
 "cells": [
  {
   "cell_type": "code",
   "execution_count": 1,
   "metadata": {},
   "outputs": [],
   "source": [
    "from tqdm.notebook import tqdm\n",
    "\n",
    "types = {\n",
    "    0: ('nolabel', \"#000000\"),\n",
    "    1: ('neoplastic', \"#CD5C5C\"),\n",
    "    2: ('inflammatory', \"#9FE2BF\"),\n",
    "    3: ('connective', \"#6495ED\"),\n",
    "    4: ('necrotic', \"#DFFF00\"),\n",
    "    5: ('non-neoplastic', \"#FFBF00\")\n",
    "}\n",
    "\n",
    "count = {\n",
    "    'nolabel':0,\n",
    "    'neoplastic':0,\n",
    "    'inflammatory':0,\n",
    "    'connective':0,\n",
    "    'necrotic':0,\n",
    "    'non-neoplastic':0\n",
    "}\n",
    "\n",
    "start_of_document = '''<?xml version=\"1.0\"?>\n",
    "<ASAP_Annotations>\n",
    "\\t<Annotations>\n",
    "'''\n",
    "\n",
    "end_of_document = '''\n",
    "\\t</Annotations>\n",
    "</ASAP_Annotations>\n",
    "'''\n",
    "\n",
    "def json2xml(annotation):\n",
    "    type,color = types[annotation['type']]\n",
    "    if not type in [\n",
    "        # 'neoplastic',\n",
    "        'inflammatory'\n",
    "    ]:\n",
    "        return ''\n",
    "\n",
    "    count[type] +=1\n",
    "    name= f'{type} {count[type]}'\n",
    "    \n",
    "    start_of_annotation = f'''\\t\\t<Annotation Name=\"{name}\" Type=\"Polygon\" PartOfGroup=\"None\" Color=\"{color}\">\n",
    "    \\t\\t<Coordinates>\n",
    "    '''\n",
    "\n",
    "    coordinates=''\n",
    "    for ix, (x,y) in enumerate(annotation['contour']):\n",
    "        if ix == 0:\n",
    "            coordinate = f'\\t\\t\\t<Coordinate Order=\"{ix}\" X=\"{x*2}\" Y=\"{y*2}\" />\\n'   \n",
    "        else:\n",
    "            coordinate = f'\\t\\t\\t\\t<Coordinate Order=\"{ix}\" X=\"{x*2}\" Y=\"{y*2}\" />\\n'\n",
    "        coordinates += coordinate\n",
    "\n",
    "    end_of_annotation = '''\\t\\t\\t</Coordinates>\n",
    "    \\t</Annotation>'''\n",
    "\n",
    "    return start_of_annotation + coordinates + end_of_annotation\n",
    "\n"
   ]
  },
  {
   "cell_type": "code",
   "execution_count": 2,
   "metadata": {},
   "outputs": [],
   "source": [
    "def json2bbox(annotation):\n",
    "    type,color = types[annotation['type']]\n",
    "    if not type in [\n",
    "        # 'neoplastic',\n",
    "        'inflammatory'\n",
    "    ]:\n",
    "        return ''\n",
    "\n",
    "    count[type] +=1\n",
    "    name= f'{type} {count[type]}'\n",
    "    \n",
    "    start_of_annotation = f'''\\t\\t<Annotation Name=\"{name}\" Type=\"Rectangle\" PartOfGroup=\"None\" Color=\"{color}\">\n",
    "    \\t\\t<Coordinates>\n",
    "    '''\n",
    "\n",
    "    (x1, y1), (x2, y2) = cell['bbox']\n",
    "    coordinates=f'''\\t\\t\\t<Coordinate Order=\"0\" X=\"{x1 * 2}\" Y=\"{y1 * 2}\" />\n",
    "\t\\t\\t\\t<Coordinate Order=\"1\" X=\"{x2*2}\" Y=\"{y1*2}\" />\n",
    "\t\\t\\t\\t<Coordinate Order=\"2\" X=\"{x2*2}\" Y=\"{y2*2}\" />\n",
    "\t\\t\\t\\t<Coordinate Order=\"3\" X=\"{x1*2}\" Y=\"{y2*2}\" />\n",
    "    '''\n",
    "\n",
    "    end_of_annotation = '''\\t\\t</Coordinates>\n",
    "    \\t</Annotation>'''\n",
    "\n",
    "    return start_of_annotation + coordinates + end_of_annotation"
   ]
  },
  {
   "cell_type": "code",
   "execution_count": 3,
   "metadata": {},
   "outputs": [
    {
     "data": {
      "application/vnd.jupyter.widget-view+json": {
       "model_id": "c06d335dc9e446e8b13822490bd44f21",
       "version_major": 2,
       "version_minor": 0
      },
      "text/plain": [
       "  0%|          | 0/938487 [00:00<?, ?it/s]"
      ]
     },
     "metadata": {},
     "output_type": "display_data"
    }
   ],
   "source": [
    "from pathlib import Path\n",
    "import json\n",
    "\n",
    "\n",
    "path = Path(r'/data/data/pathology/isala/json/PREM-IS-005_d5fa80a160 I10 HE1 - 2022-03-24 19.45.44.json')\n",
    "\n",
    "with open(path) as f:\n",
    "    annotation = json.load(f)\n",
    "\n",
    "cells=''\n",
    "for _, cell in tqdm(annotation['nuc'].items()):\n",
    "    cells += json2bbox(cell)\n",
    "\n",
    "xml = start_of_document + cells + end_of_document\n",
    "\n",
    "with open(Path('/data/data/pathology/isala/xml/') / (path.stem + '.xml'), 'w') as f:\n",
    "    f.write(xml)"
   ]
  },
  {
   "cell_type": "code",
   "execution_count": null,
   "metadata": {},
   "outputs": [],
   "source": []
  }
 ],
 "metadata": {
  "kernelspec": {
   "display_name": "Python 3.9.7 ('conda-env')",
   "language": "python",
   "name": "python3"
  },
  "language_info": {
   "codemirror_mode": {
    "name": "ipython",
    "version": 3
   },
   "file_extension": ".py",
   "mimetype": "text/x-python",
   "name": "python",
   "nbconvert_exporter": "python",
   "pygments_lexer": "ipython3",
   "version": "3.9.7"
  },
  "orig_nbformat": 4,
  "vscode": {
   "interpreter": {
    "hash": "3beecffdad3b4344c6a02f780090fd18237a3f9b7cc1cb19cea49a4f642d1c84"
   }
  }
 },
 "nbformat": 4,
 "nbformat_minor": 2
}
