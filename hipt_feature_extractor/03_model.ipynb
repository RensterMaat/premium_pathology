{
 "cells": [
  {
   "cell_type": "code",
   "execution_count": 42,
   "metadata": {},
   "outputs": [],
   "source": [
    "import torch\n",
    "import pandas as pd\n",
    "import torch.nn as nn\n",
    "import pytorch_lightning as pl\n",
    "from pathlib import Path\n",
    "from torch.utils.data import Dataset, DataLoader, random_split\n",
    "from torchvision import transforms\n",
    "\n",
    "\n",
    "class DINO_4k_feature_dataset(Dataset):\n",
    "    def __init__(self, target):\n",
    "        features = pd.read_csv('/home/rens/repos/premium_pathology/hipt_feature_extractor/data/features.csv').set_index('Unnamed: 0')\n",
    "        labels = pd.read_csv('/home/rens/repos/premium_pathology/hipt_feature_extractor/data/labels.csv').set_index('Unnamed: 0')\n",
    "        labels.index = [Path(ix).stem for ix in labels.index]\n",
    "\n",
    "        self.target = target\n",
    "\n",
    "        self.data = features.join(labels[target], on='slide')\n",
    "        self.data[target] = self.data[target].astype(int)\n",
    "\n",
    "        self.slides = self.data.slide.unique()\n",
    "        \n",
    "        self.transforms = transforms.Compose([\n",
    "            transforms.ToTensor(),\n",
    "            transforms.Lambda(lambda x: x.float()[0])\n",
    "        ])\n",
    "\n",
    "    def __len__(self):\n",
    "        return len(self.slides)\n",
    "    \n",
    "    def __getitem__(self, ix):\n",
    "        slide = self.slides[ix]\n",
    "\n",
    "        slide_data = self.data[self.data.slide == slide]\n",
    "\n",
    "        features = slide_data[[f'feature{f}' for f in range(192)]].to_numpy()\n",
    "        x = self.transforms(features)\n",
    "\n",
    "        y = torch.tensor(slide_data[self.target][0]).float()\n",
    "\n",
    "        return x, y\n",
    "    \n",
    "\n",
    "class CLAM_feature_dataset(Dataset):\n",
    "    def __init__(self, target):\n",
    "        self.features_root = Path('/mnt/hpc/pathology/clam_features/primary_vs_metastasis/pt_files')\n",
    "        self.labels = pd.read_csv('/home/rens/repos/premium_pathology/hipt_feature_extractor/data/labels_clam.csv').set_index('Unnamed: 0')\n",
    "        self.labels.index = [Path(ix).stem for ix in self.labels.index]\n",
    "\n",
    "        self.target = target\n",
    "        \n",
    "        self.transforms = transforms.Compose([\n",
    "            # transforms.ToTensor(),\n",
    "            transforms.Lambda(lambda x: x.float())\n",
    "        ])\n",
    "\n",
    "    def __len__(self):\n",
    "        return len(self.labels)\n",
    "    \n",
    "    def __getitem__(self, ix):\n",
    "        x = torch.load(self.features_root / (self.labels.index[ix] + '.pt'))\n",
    "        x = self.transforms(x)\n",
    "\n",
    "        y = self.labels.iloc[ix][self.target]\n",
    "        y = torch.tensor(y).float()\n",
    "\n",
    "        return x, y\n",
    "      \n",
    "        \n",
    "class GatedAttentionLayer(nn.Module):\n",
    "    def __init__(self, input_dim, output_dim, dropout=0):\n",
    "        super().__init__()\n",
    "        \n",
    "        self.attention_a = [\n",
    "            nn.Linear(input_dim,output_dim),\n",
    "            nn.Tanh()\n",
    "        ]\n",
    "        self.attention_b = [\n",
    "            nn.Linear(input_dim,output_dim),\n",
    "            nn.Sigmoid()\n",
    "        ]\n",
    "\n",
    "        self.attention_c = [\n",
    "            nn.Linear(output_dim, 1),\n",
    "            nn.Softmax(dim=1)\n",
    "        ]\n",
    "\n",
    "        if dropout:\n",
    "            self.attention_a.append(nn.Dropout(dropout))\n",
    "            self.attention_b.append(nn.Dropout(dropout))\n",
    "\n",
    "        self.attention_a = nn.Sequential(*self.attention_a) \n",
    "        self.attention_b = nn.Sequential(*self.attention_b)\n",
    "        self.attention_c = nn.Sequential(*self.attention_c)\n",
    "\n",
    "    def forward(self, x):\n",
    "        a = self.attention_a(x)\n",
    "        b = self.attention_b(x)\n",
    "        A = a.mul(b)\n",
    "        out = self.attention_c(A)\n",
    "\n",
    "        return out\n",
    "    \n",
    "class AttentionModel(pl.LightningModule):\n",
    "    def __init__(self, dataset, dropout=0):\n",
    "        super().__init__()\n",
    "\n",
    "        self.dataset = dataset\n",
    "\n",
    "        self.attention_layer = GatedAttentionLayer(1024, 128, dropout)\n",
    "        self.classifier = nn.Sequential(*[\n",
    "            nn.Linear(1024, 1),\n",
    "            # nn.ReLU(),\n",
    "            # nn.Linear(128,128),\n",
    "            # nn.ReLU(),\n",
    "            # nn.Linear(128,1),\n",
    "            nn.Sigmoid()\n",
    "        ])\n",
    "\n",
    "        self.criterion = nn.BCELoss()\n",
    "\n",
    "    def forward(self, x):\n",
    "        A = self.attention_layer(x).transpose(1,2)\n",
    "        M = torch.matmul(A, x)\n",
    "        out = self.classifier(M)\n",
    "\n",
    "        return out\n",
    "\n",
    "    def training_step(self, batch, batch_idx):\n",
    "        x, y = batch\n",
    "        y_hat = self(x)\n",
    "\n",
    "        loss = self.criterion(y_hat.squeeze(), y.squeeze())\n",
    "\n",
    "        self.log('train_loss', loss)\n",
    "\n",
    "        return loss\n",
    "    \n",
    "    def validation_step(self, batch, batch_idx):\n",
    "        x, y = batch\n",
    "        y_hat = self(x)\n",
    "\n",
    "        loss = self.criterion(y_hat.squeeze(), y.squeeze())\n",
    "\n",
    "        self.log('val_loss', loss)\n",
    "\n",
    "        return loss\n",
    "    \n",
    "    def configure_optimizers(self):\n",
    "        optimizer = torch.optim.Adam(self.parameters(), lr=5e-4)\n",
    "        return optimizer\n",
    "    \n",
    "    def setup(self, **kwargs):\n",
    "        n = len(self.dataset)\n",
    "        train_n = int(n*0.8)\n",
    "\n",
    "        self.train_dataset, self.val_dataset = random_split(self.dataset, [train_n, n-train_n])\n",
    "\n",
    "    def train_dataloader(self):\n",
    "        return DataLoader(self.train_dataset, batch_size = 1)\n",
    "    \n",
    "    def val_dataloader(self):\n",
    "        return DataLoader(self.val_dataset, batch_size = 1)\n",
    "        "
   ]
  },
  {
   "cell_type": "code",
   "execution_count": 43,
   "metadata": {},
   "outputs": [
    {
     "name": "stderr",
     "output_type": "stream",
     "text": [
      "/home/rens/miniconda3/envs/rens/lib/python3.10/site-packages/pytorch_lightning/loggers/wandb.py:396: UserWarning: There is a wandb run already in progress and newly created instances of `WandbLogger` will reuse this run. If this is not desired, call `wandb.finish()` before instantiating `WandbLogger`.\n",
      "  rank_zero_warn(\n",
      "GPU available: True (cuda), used: True\n",
      "TPU available: False, using: 0 TPU cores\n",
      "IPU available: False, using: 0 IPUs\n",
      "HPU available: False, using: 0 HPUs\n",
      "/home/rens/miniconda3/envs/rens/lib/python3.10/site-packages/pytorch_lightning/loops/utilities.py:94: PossibleUserWarning: `max_epochs` was not set. Setting it to 1000 epochs. To train without an epoch limit, set `max_epochs=-1`.\n",
      "  rank_zero_warn(\n",
      "LOCAL_RANK: 0 - CUDA_VISIBLE_DEVICES: [0]\n",
      "\n",
      "  | Name            | Type                | Params\n",
      "--------------------------------------------------------\n",
      "0 | attention_layer | GatedAttentionLayer | 262 K \n",
      "1 | classifier      | Sequential          | 1.0 K \n",
      "2 | criterion       | BCELoss             | 0     \n",
      "--------------------------------------------------------\n",
      "263 K     Trainable params\n",
      "0         Non-trainable params\n",
      "263 K     Total params\n",
      "1.054     Total estimated model params size (MB)\n"
     ]
    },
    {
     "data": {
      "application/vnd.jupyter.widget-view+json": {
       "model_id": "c42a6c4e23ed449cb1d643625563b5dc",
       "version_major": 2,
       "version_minor": 0
      },
      "text/plain": [
       "Sanity Checking: 0it [00:00, ?it/s]"
      ]
     },
     "metadata": {},
     "output_type": "display_data"
    },
    {
     "name": "stderr",
     "output_type": "stream",
     "text": [
      "/home/rens/miniconda3/envs/rens/lib/python3.10/site-packages/pytorch_lightning/trainer/connectors/data_connector.py:224: PossibleUserWarning: The dataloader, val_dataloader 0, does not have many workers which may be a bottleneck. Consider increasing the value of the `num_workers` argument` (try 24 which is the number of cpus on this machine) in the `DataLoader` init to improve performance.\n",
      "  rank_zero_warn(\n",
      "/tmp/ipykernel_664/2385727307.py:65: DeprecationWarning: In future, it will be an error for 'np.bool_' scalars to be interpreted as an index\n",
      "  y = torch.tensor(y).float()\n",
      "/home/rens/miniconda3/envs/rens/lib/python3.10/site-packages/pytorch_lightning/trainer/connectors/data_connector.py:224: PossibleUserWarning: The dataloader, train_dataloader, does not have many workers which may be a bottleneck. Consider increasing the value of the `num_workers` argument` (try 24 which is the number of cpus on this machine) in the `DataLoader` init to improve performance.\n",
      "  rank_zero_warn(\n"
     ]
    },
    {
     "data": {
      "application/vnd.jupyter.widget-view+json": {
       "model_id": "d193cdbc082042af9df2e499a5daa405",
       "version_major": 2,
       "version_minor": 0
      },
      "text/plain": [
       "Training: 0it [00:00, ?it/s]"
      ]
     },
     "metadata": {},
     "output_type": "display_data"
    }
   ],
   "source": [
    "import wandb\n",
    "from pytorch_lightning.loggers import WandbLogger\n",
    "\n",
    "dataset = CLAM_feature_dataset(target='primary')\n",
    "model = AttentionModel(dataset)\n",
    "\n",
    "logger = WandbLogger(project='pathology', name='debug_attention_on_clam_features')\n",
    "\n",
    "trainer = pl.Trainer(\n",
    "    accelerator='gpu',\n",
    "    accumulate_grad_batches=64,\n",
    "    logger=logger\n",
    "    # overfit_batches=10\n",
    ")\n",
    "\n",
    "trainer.fit(model)\n",
    "\n",
    "wandb.finish()"
   ]
  },
  {
   "cell_type": "code",
   "execution_count": 17,
   "metadata": {},
   "outputs": [
    {
     "data": {
      "text/html": [
       "Waiting for W&B process to finish... <strong style=\"color:green\">(success).</strong>"
      ],
      "text/plain": [
       "<IPython.core.display.HTML object>"
      ]
     },
     "metadata": {},
     "output_type": "display_data"
    },
    {
     "data": {
      "text/html": [
       "<style>\n",
       "    table.wandb td:nth-child(1) { padding: 0 10px; text-align: left ; width: auto;} td:nth-child(2) {text-align: left ; width: 100%}\n",
       "    .wandb-row { display: flex; flex-direction: row; flex-wrap: wrap; justify-content: flex-start; width: 100% }\n",
       "    .wandb-col { display: flex; flex-direction: column; flex-basis: 100%; flex: 1; padding: 10px; }\n",
       "    </style>\n",
       "<div class=\"wandb-row\"><div class=\"wandb-col\"><h3>Run history:</h3><br/><table class=\"wandb\"><tr><td>epoch</td><td>▁▁▁▁▅▅▅▅██▁▁▁▁▁▅▅▅▅</td></tr><tr><td>train_loss</td><td>▄▇▇▅▃▇▂▃▄▁▂▇▄█▄▄█▇▅</td></tr><tr><td>trainer/global_step</td><td>▁▂▃▃▄▅▆▆▇█▁▁▂▃▃▄▅▆▆</td></tr></table><br/></div><div class=\"wandb-col\"><h3>Run summary:</h3><br/><table class=\"wandb\"><tr><td>epoch</td><td>1</td></tr><tr><td>train_loss</td><td>0.67373</td></tr><tr><td>trainer/global_step</td><td>399</td></tr></table><br/></div></div>"
      ],
      "text/plain": [
       "<IPython.core.display.HTML object>"
      ]
     },
     "metadata": {},
     "output_type": "display_data"
    },
    {
     "data": {
      "text/html": [
       "Synced <strong style=\"color:#cdcd00\">debug_attention_on_hipt</strong>: <a href=\"https://wandb.ai/premium/pathology/runs/3ktkn0bw\" target=\"_blank\">https://wandb.ai/premium/pathology/runs/3ktkn0bw</a><br/>Synced 6 W&B file(s), 0 media file(s), 0 artifact file(s) and 0 other file(s)"
      ],
      "text/plain": [
       "<IPython.core.display.HTML object>"
      ]
     },
     "metadata": {},
     "output_type": "display_data"
    },
    {
     "data": {
      "text/html": [
       "Find logs at: <code>./wandb/run-20230317_160219-3ktkn0bw/logs</code>"
      ],
      "text/plain": [
       "<IPython.core.display.HTML object>"
      ]
     },
     "metadata": {},
     "output_type": "display_data"
    }
   ],
   "source": [
    "wandb.finish()"
   ]
  },
  {
   "cell_type": "code",
   "execution_count": 3,
   "metadata": {},
   "outputs": [],
   "source": [
    "dl = model.train_dataloader()\n",
    "\n",
    "for batch in dl:\n",
    "    x, y = batch\n",
    "    y_hat = model(x)\n",
    "    break"
   ]
  },
  {
   "cell_type": "code",
   "execution_count": 5,
   "metadata": {},
   "outputs": [
    {
     "data": {
      "image/png": "[encoded data removed]",
      "text/plain": [
       "<Figure size 640x480 with 1 Axes>"
      ]
     },
     "metadata": {},
     "output_type": "display_data"
    }
   ],
   "source": [
    "import matplotlib.pyplot as plt\n",
    "\n",
    "plt.hist(x.numpy().flatten())\n",
    "plt.show()"
   ]
  },
  {
   "cell_type": "code",
   "execution_count": 140,
   "metadata": {},
   "outputs": [
    {
     "data": {
      "text/plain": [
       "torch.Size([1])"
      ]
     },
     "execution_count": 140,
     "metadata": {},
     "output_type": "execute_result"
    }
   ],
   "source": [
    "y.shape"
   ]
  },
  {
   "cell_type": "code",
   "execution_count": 62,
   "metadata": {},
   "outputs": [
    {
     "data": {
      "text/plain": [
       "torch.Size([1, 81, 192])"
      ]
     },
     "execution_count": 62,
     "metadata": {},
     "output_type": "execute_result"
    }
   ],
   "source": [
    "x.shape"
   ]
  },
  {
   "cell_type": "code",
   "execution_count": null,
   "metadata": {},
   "outputs": [],
   "source": []
  }
 ],
 "metadata": {
  "kernelspec": {
   "display_name": "rens",
   "language": "python",
   "name": "python3"
  },
  "language_info": {
   "codemirror_mode": {
    "name": "ipython",
    "version": 3
   },
   "file_extension": ".py",
   "mimetype": "text/x-python",
   "name": "python",
   "nbconvert_exporter": "python",
   "pygments_lexer": "ipython3",
   "version": "3.10.8"
  },
  "orig_nbformat": 4
 },
 "nbformat": 4,
 "nbformat_minor": 2
}
