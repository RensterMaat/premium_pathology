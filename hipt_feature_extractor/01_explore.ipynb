{
 "cells": [
  {
   "cell_type": "code",
   "execution_count": 5,
   "metadata": {},
   "outputs": [
    {
     "name": "stdout",
     "output_type": "stream",
     "text": [
      "# of Patches: 196\n"
     ]
    },
    {
     "data": {
      "application/vnd.jupyter.widget-view+json": {
       "model_id": "1ee6aacceeec4236a3bd676ddc5a6c6e",
       "version_major": 2,
       "version_minor": 0
      },
      "text/plain": [
       "  0%|          | 0/6 [00:00<?, ?it/s]"
      ]
     },
     "metadata": {},
     "output_type": "display_data"
    }
   ],
   "source": [
    "import yaml\n",
    "import numpy as np\n",
    "from pathlib import Path\n",
    "import matplotlib.pyplot as plt\n",
    "from extract import HIPTFeatureExtractor\n",
    "from heatmap import extract_attention\n",
    "from scipy.ndimage import zoom\n",
    "from tqdm.notebook import tqdm\n",
    "\n",
    "with open('config.yaml', 'r') as f:\n",
    "    config = yaml.safe_load(f)\n",
    "\n",
    "sub_dir = 'metastasis/isala'\n",
    "\n",
    "slide_path = sorted(list((Path(config['slide_dir']) / sub_dir).iterdir()))[4]\n",
    "patches_path = Path(config['preprocess_dir']) / sub_dir / 'patches' / (slide_path.stem + '.h5')\n",
    "\n",
    "fe = HIPTFeatureExtractor(slide_path, patches_path)\n",
    "fe.setup()\n",
    "\n",
    "level = 5\n",
    "attention_heatmap = np.zeros([6] + np.flip(fe.slide.level_dimensions[level]).tolist())\n",
    "\n",
    "\n",
    "for ix in tqdm(list(range(len(fe.dataset)))):\n",
    "    x = fe.dataset[ix]\n",
    "    break  \n",
    "    _, attention_4k = extract_attention(fe, x)\n",
    "\n",
    "    zoomed_attention = zoom(attention_4k, zoom=[1, 2**(1-level), 2**(1-level)])\n",
    "    y,x = (fe.patch_coordinates[ix] / 2**level).astype(int)\n",
    "    zoomed_dim = zoomed_attention.shape[1]\n",
    "\n",
    "    patch = attention_heatmap[:, x:x+zoomed_dim, y:y+zoomed_dim]\n",
    "    attention_heatmap[:, x:x+zoomed_dim, y:y+zoomed_dim] = zoomed_attention[:, :patch.shape[1], :patch.shape[2]]\n",
    "\n",
    "attention_heatmap[np.where(attention_heatmap == 0)] = float('nan')\n"
   ]
  },
  {
   "cell_type": "code",
   "execution_count": 2,
   "metadata": {},
   "outputs": [],
   "source": [
    "from PIL import Image\n",
    "\n",
    "img = np.array(Image.open('/home/rens/repos/premium_pathology/hipt_feature_extractor/examples/image_4k.png'))"
   ]
  },
  {
   "cell_type": "code",
   "execution_count": 7,
   "metadata": {},
   "outputs": [
    {
     "data": {
      "text/plain": [
       "torch.Size([2, 4096, 4096])"
      ]
     },
     "execution_count": 7,
     "metadata": {},
     "output_type": "execute_result"
    }
   ],
   "source": [
    "from heatmap import transform_image\n",
    "\n",
    "transform_image(img).shape"
   ]
  },
  {
   "cell_type": "code",
   "execution_count": 6,
   "metadata": {},
   "outputs": [
    {
     "data": {
      "text/plain": [
       "torch.Size([3, 4096, 4096])"
      ]
     },
     "execution_count": 6,
     "metadata": {},
     "output_type": "execute_result"
    }
   ],
   "source": [
    "x.shape"
   ]
  },
  {
   "cell_type": "code",
   "execution_count": 8,
   "metadata": {},
   "outputs": [],
   "source": [
    "from torchvision import transforms\n",
    "from heatmap import extract_attention\n",
    "\n",
    "transform = transforms.Compose(\n",
    "    [\n",
    "        transforms.ToTensor(),\n",
    "        transforms.Normalize(mean=0.5, std=0.5),\n",
    "    ]\n",
    ")\n",
    "\n",
    "x = transform(img)\n",
    "\n",
    "attention_256, attention_4k = extract_attention(fe, x)"
   ]
  },
  {
   "cell_type": "code",
   "execution_count": null,
   "metadata": {},
   "outputs": [],
   "source": [
    "for head in range(6):\n",
    "    fig, ax = plt.subplots(1,3, figsize=(24,24))\n",
    "    ax[0].imshow(img)\n",
    "    ax[1].imshow(img)\n",
    "    ax[1].imshow(attention_256[head], cmap='seismic', alpha=0.3)\n",
    "    ax[2].imshow(attention_256[head], cmap='seismic')\n",
    "    plt.show()"
   ]
  },
  {
   "cell_type": "code",
   "execution_count": null,
   "metadata": {},
   "outputs": [],
   "source": [
    "dim = fe.slide.level_dimensions[level]\n",
    "img = fe.slide.read_region((0,0), level, dim)\n",
    "\n",
    "for head in range(6):\n",
    "    fig, ax = plt.subplots(1,3, figsize=(24,24))\n",
    "    ax[0].imshow(img)\n",
    "    ax[1].imshow(img)\n",
    "    ax[1].imshow(attention_heatmap[head], cmap='seismic', alpha=0.3)\n",
    "    ax[2].imshow(attention_heatmap[head], cmap='seismic')\n",
    "    plt.show()\n"
   ]
  },
  {
   "cell_type": "code",
   "execution_count": null,
   "metadata": {},
   "outputs": [],
   "source": [
    "size = 1024\n",
    "w, h = 500, 1500\n",
    "\n",
    "for head in range(6):\n",
    "    heatmap = rearrange(attention_256[:,head], '(b1 b2) h w -> (b1 h) (b2 w)', b1=16)\n",
    "    fig, ax = plt.subplots(1,3, figsize=(30,20))\n",
    "    ax[0].imshow(img[h:h+size, w:w+size])\n",
    "    ax[1].imshow(img[h:h+size, w:w+size])\n",
    "    ax[1].imshow(heatmap[h:h+size, w:w+size], cmap='seismic', alpha=0.4)\n",
    "    ax[2].imshow(heatmap[h:h+size, w:w+size], cmap='seismic')\n",
    "    fig.show()\n"
   ]
  },
  {
   "cell_type": "code",
   "execution_count": null,
   "metadata": {},
   "outputs": [],
   "source": [
    "for ix in tqdm(list(range(len(fe.dataset)))):\n",
    "\n",
    "    x = fe.dataset[ix]\n",
    "    \n",
    "    _, attention_4k = extract_attention(x)\n",
    "\n",
    "    zoomed_attention = zoom(attention_4k, zoom=[1, 2**(1-level), 2**(1-level)])\n",
    "    y,x = (fe.patch_coordinates[ix] / 2**level).astype(int)\n",
    "    zoomed_dim = zoomed_attention.shape[1]\n",
    "\n",
    "    patch = attention_heatmap[:, x:x+zoomed_dim, y:y+zoomed_dim]\n",
    "    attention_heatmap[:, x:x+zoomed_dim, y:y+zoomed_dim] = zoomed_attention[:, :patch.shape[1], :patch.shape[2]]\n",
    "\n",
    "attention_heatmap[np.where(attention_heatmap == 0)] = float('nan')\n",
    "plt.imshow(attention_heatmap[0], cmap='seismic')\n",
    "plt.show()"
   ]
  },
  {
   "cell_type": "code",
   "execution_count": 138,
   "metadata": {},
   "outputs": [],
   "source": [
    "with open(f'/home/rens/repos/premium_pathology/hipt_feature_extractor/heatmap_examples/{slide_path.stem}', 'wb') as f:\n",
    "    np.save(f, attention_heatmap)\n"
   ]
  },
  {
   "cell_type": "code",
   "execution_count": null,
   "metadata": {},
   "outputs": [],
   "source": [
    "for head in range(6):\n",
    "    fig, ax = plt.subplots(1,3, figsize=(24,24))\n",
    "    ax[0].imshow(img)\n",
    "    ax[1].imshow(img)\n",
    "    ax[1].imshow(attention_heatmap[head], cmap='seismic', alpha=0.3)\n",
    "    ax[2].imshow(attention_heatmap[head], cmap='seismic')\n",
    "    plt.show()\n"
   ]
  },
  {
   "cell_type": "code",
   "execution_count": 64,
   "metadata": {},
   "outputs": [
    {
     "data": {
      "image/png": "[encoded data removed]",
      "text/plain": [
       "<Figure size 640x480 with 1 Axes>"
      ]
     },
     "metadata": {},
     "output_type": "display_data"
    }
   ],
   "source": [
    "plt.imshow(attention_heatmap[1], cmap='seismic')\n",
    "plt.show()"
   ]
  },
  {
   "cell_type": "code",
   "execution_count": null,
   "metadata": {},
   "outputs": [],
   "source": [
    "x = fe.dataset[ix]\n",
    "\n",
    "plt.imshow(x.numpy().transpose((1,2,0)))\n",
    "plt.show()"
   ]
  },
  {
   "cell_type": "code",
   "execution_count": 52,
   "metadata": {},
   "outputs": [
    {
     "data": {
      "text/plain": [
       "torch.Size([3, 4096, 4096])"
      ]
     },
     "execution_count": 52,
     "metadata": {},
     "output_type": "execute_result"
    }
   ],
   "source": [
    "x.shape"
   ]
  },
  {
   "cell_type": "code",
   "execution_count": null,
   "metadata": {},
   "outputs": [],
   "source": [
    "fe.slide.read_region(fe.patch_coordinates[7], 1, (4096, 4096))"
   ]
  },
  {
   "cell_type": "code",
   "execution_count": null,
   "metadata": {},
   "outputs": [],
   "source": [
    "for head in range(1):\n",
    "    fig, ax = plt.subplots(1,3, figsize=(18,6))\n",
    "    ax[0].imshow(x[0].numpy().transpose(1,2,0))\n",
    "    ax[1].imshow(x[0].numpy().transpose(1,2,0))\n",
    "    ax[1].imshow(attention_4k[head], cmap='seismic', alpha=0.3)\n",
    "    ax[2].imshow(attention_4k[head], cmap='seismic')\n",
    "    plt.show()"
   ]
  },
  {
   "cell_type": "code",
   "execution_count": null,
   "metadata": {},
   "outputs": [],
   "source": [
    "head = 4\n",
    "\n",
    "size = 512\n",
    "w = 3500\n",
    "h = 3000\n",
    "\n",
    "for head in range(6):\n",
    "    patch = rearrange(batch_256.cpu().numpy(), '(b1 b2) c h w -> (b1 h) (b2 w) c', b1=16)\n",
    "    heatmap = rearrange(attention_256[:,head], '(b1 b2) h w -> (b1 h) (b2 w)', b1=16)\n",
    "\n",
    "    fig, ax = plt.subplots(1,3, figsize=(18,6))\n",
    "    ax[0].imshow(patch[w:w+size, h:h+size])\n",
    "    ax[1].imshow(patch[w:w+size, h:h+size])\n",
    "    ax[1].imshow(heatmap[w:w+size, h:h+size], cmap='seismic', alpha=0.4)\n",
    "    ax[2].imshow(heatmap[w:w+size, h:h+size], cmap='seismic')\n",
    "    fig.show()"
   ]
  },
  {
   "cell_type": "code",
   "execution_count": null,
   "metadata": {},
   "outputs": [],
   "source": []
  }
 ],
 "metadata": {
  "kernelspec": {
   "display_name": "rens",
   "language": "python",
   "name": "python3"
  },
  "language_info": {
   "codemirror_mode": {
    "name": "ipython",
    "version": 3
   },
   "file_extension": ".py",
   "mimetype": "text/x-python",
   "name": "python",
   "nbconvert_exporter": "python",
   "pygments_lexer": "ipython3",
   "version": "3.10.8"
  },
  "orig_nbformat": 4,
  "vscode": {
   "interpreter": {
    "hash": "f8e58b914173e9e26bec900a798eebdc4c2c2b3000f2ddebd76fb88687c28df0"
   }
  }
 },
 "nbformat": 4,
 "nbformat_minor": 2
}
