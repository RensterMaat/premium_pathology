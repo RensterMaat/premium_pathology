{
 "cells": [
  {
   "cell_type": "code",
   "execution_count": 2,
   "metadata": {},
   "outputs": [
    {
     "data": {
      "application/vnd.jupyter.widget-view+json": {
       "model_id": "d5c79985140447f68550716afb8c7263",
       "version_major": 2,
       "version_minor": 0
      },
      "text/plain": [
       "  0%|          | 0/57 [00:00<?, ?it/s]"
      ]
     },
     "metadata": {},
     "output_type": "display_data"
    }
   ],
   "source": [
    "import matplotlib.pyplot as plt\n",
    "import numpy as np\n",
    "import xml.etree.ElementTree as ET\n",
    "import cv2\n",
    "\n",
    "from openslide import OpenSlide\n",
    "from pathlib import Path\n",
    "from scipy.ndimage import binary_erosion, binary_dilation, gaussian_filter\n",
    "from PIL import Image\n",
    "from tqdm.notebook import tqdm\n",
    "\n",
    "r = Path('/home/rens/hpc/PREMIUM histopathology/data/mst/metastasis')\n",
    "annotation_path = Path('/home/rens/hpc/rens/annotations/mst/metastasis')\n",
    "dest_folder = Path('/home/rens/hpc/rens/output/patches/mst_metastasis_level4')\n",
    "\n",
    "for file in tqdm(sorted(list(r.iterdir()))):\n",
    "    roi_file = annotation_path / (file.stem + '.xml')\n",
    "    try:\n",
    "        with open(roi_file, 'r') as f:\n",
    "                xml_file = ET.parse(f)\n",
    "    except:\n",
    "        # print('no annotation')\n",
    "        continue\n",
    "\n",
    "    slide = OpenSlide(str(file))\n",
    "    # img = np.array(slide.read_region((0,0), 4, slide.level_dimensions[4]).convert('RGB'))\n",
    "\n",
    "    # plt.figure(figsize=(12,12))\n",
    "    # plt.imshow(img)\n",
    "    # plt.show()\n",
    "\n",
    "    mag_factor = int(slide.level_dimensions[0][0] / slide.level_dimensions[4][0])\n",
    "\n",
    "    # extract all rois\n",
    "    rois = []\n",
    "    for annotation in xml_file.getroot()[0]:\n",
    "        roi = []\n",
    "        for coordinate in annotation[0]:\n",
    "            roi.append([coordinate.attrib['X'], coordinate.attrib['Y']])\n",
    "        rois.append((np.array(roi).astype(float) / mag_factor).astype(int))\n",
    "\n",
    "    mask = np.zeros(np.flip(slide.level_dimensions[4]))\n",
    "    cv2.fillPoly(mask, rois, 1)\n",
    "\n",
    "    # mask = img.sum(axis=-1) < 650\n",
    "    # eroded = binary_erosion(mask, iterations=25)\n",
    "    # dilated = binary_dilation(eroded, iterations=20)\n",
    "\n",
    "    # plt.figure(figsize=(12,12))\n",
    "    # plt.imshow(mask)\n",
    "    # plt.show()\n",
    "\n",
    "    patch_size = 256\n",
    "\n",
    "    xx = np.arange(0, mask.shape[0] - mask.shape[0] % patch_size, patch_size)\n",
    "    yy = np.arange(0, mask.shape[1] - mask.shape[1] % patch_size, patch_size)\n",
    "    # xx = np.arange(0, mask.shape[0] - patch_size, patch_size - 96)\n",
    "    # yy = np.arange(0, mask.shape[0] - patch_size, patch_size - 96)\n",
    "\n",
    "    origins = []\n",
    "    for x in xx:\n",
    "        for y in yy:\n",
    "            if mask[x:x+patch_size,y:y+patch_size].sum() > 0:\n",
    "                origins.append((x,y))\n",
    "\n",
    "    # plt.figure(figsize=(12,12))\n",
    "    # plt.imshow(img)\n",
    "    # for x,y in origins:\n",
    "    #     plt.plot(\n",
    "    #         [y,y+patch_size,y+patch_size,y,y],\n",
    "    #         [x,x,x+patch_size, x+patch_size,x],\n",
    "    #         c='b'\n",
    "    #     )\n",
    "    # plt.show()\n",
    "    for x,y in origins:\n",
    "        # Image.fromarray(img[x:x+patch_size, y:y+patch_size]).save(dest_folder / (file.stem + f\"_x{x}_y{y}.jpeg\"))\n",
    "        Image.fromarray(\n",
    "            # img[x:x+patch_size, y:y+patch_size]\n",
    "            np.array(slide.read_region(\n",
    "                (y * mag_factor,x * mag_factor), 4, 2*[patch_size]\n",
    "            ).convert('RGB'))\n",
    "        ).save(dest_folder / (file.stem + f\"_x{x}_y{y}.jpeg\"))"
   ]
  },
  {
   "cell_type": "code",
   "execution_count": null,
   "metadata": {},
   "outputs": [],
   "source": []
  }
 ],
 "metadata": {
  "kernelspec": {
   "display_name": "Python 3.9.7 ('conda-env')",
   "language": "python",
   "name": "python3"
  },
  "language_info": {
   "codemirror_mode": {
    "name": "ipython",
    "version": 3
   },
   "file_extension": ".py",
   "mimetype": "text/x-python",
   "name": "python",
   "nbconvert_exporter": "python",
   "pygments_lexer": "ipython3",
   "version": "3.9.7"
  },
  "orig_nbformat": 4,
  "vscode": {
   "interpreter": {
    "hash": "3beecffdad3b4344c6a02f780090fd18237a3f9b7cc1cb19cea49a4f642d1c84"
   }
  }
 },
 "nbformat": 4,
 "nbformat_minor": 2
}
