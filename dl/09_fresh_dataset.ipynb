{
 "cells": [
  {
   "cell_type": "code",
   "execution_count": 1,
   "metadata": {},
   "outputs": [],
   "source": [
    "from src import Model\n",
    "\n",
    "import pytorch_lightning as pl\n",
    "import torch\n",
    "import pandas as pd\n",
    "import numpy as np\n",
    "import torch.nn as nn\n",
    "import random\n",
    "from torchvision.models import densenet121\n",
    "from pathlib import Path\n",
    "from torchvision import datasets, transforms\n",
    "from monai.data import CacheDataset, DataLoader\n",
    "from monai.transforms import Lambdad, ToTensord, \\\n",
    "    RandAdjustContrastd,RandGaussianNoised, ScaleIntensityd, \\\n",
    "    RandRotate90d, RandFlipd, Compose\n",
    "from PIL import Image\n",
    "from torchmetrics import AUROC\n",
    "from pytorch_lightning.callbacks import LearningRateMonitor\n",
    "from pl_bolts.optimizers.lr_scheduler import LinearWarmupCosineAnnealingLR\n"
   ]
  },
  {
   "cell_type": "code",
   "execution_count": 20,
   "metadata": {},
   "outputs": [],
   "source": [
    "class BenefitDataset(pl.LightningDataModule):\n",
    "    def __init__(self, train_paths, val_paths, test_paths):\n",
    "        super().__init__()\n",
    "\n",
    "        self.train_paths = train_paths\n",
    "        self.val_paths = val_paths\n",
    "        self.test_paths = test_paths\n",
    "\n",
    "        self.train_transform=Compose([\n",
    "            Lambdad(['image'], lambda x: np.array(Image.open(x)).transpose(2,0,1).astype(np.float32)),   \n",
    "            ScaleIntensityd(['image']),\n",
    "            RandRotate90d(['image'], prob=0.75),\n",
    "            RandFlipd(['image'], prob=0.5, spatial_axis=0),\n",
    "            RandFlipd(['image'], prob=0.5, spatial_axis=1),\n",
    "            ToTensord(keys=['image']),\n",
    "            RandAdjustContrastd(['image'], prob=0.5, gamma=(0.5,2)),\n",
    "        ])\n",
    "        self.test_transform=Compose([\n",
    "            Lambdad(['image'], lambda x: np.array(Image.open(x)).transpose(2,0,1).astype(np.float32)),\n",
    "            ScaleIntensityd(['image']),\n",
    "            ToTensord(keys=['image']),\n",
    "            \n",
    "        ])\n",
    "\n",
    "    def setup(self, stage=None):\n",
    "        df = pd.DataFrame(\n",
    "            data=['train']*len(self.train_paths) \\\n",
    "                + ['val']*len(self.val_paths) \\\n",
    "                + ['test']*len(self.test_paths),\n",
    "            columns=['fold'],\n",
    "            index= self.train_paths+self.val_paths+self.test_paths\n",
    "        )\n",
    "\n",
    "        df['patient'] = [x.stem.split('_')[0].replace('-','_') for x in df.index]\n",
    "\n",
    "        dmtr = pd.read_csv('/home/rens/repos/PREMIUM/code/radiomics_paper/dmtr.csv').set_index('id')\n",
    "        dcb = []\n",
    "        for patient in df.patient:\n",
    "            try:\n",
    "                dcb.append(dmtr.loc[patient, 'dcb'])\n",
    "            except:\n",
    "                dcb.append(float('nan'))\n",
    "        df['dcb'] = dcb\n",
    "\n",
    "        df = df[~df.dcb.isna()]\n",
    "        df['dcb'] = df['dcb'].astype(int)\n",
    "\n",
    "        if stage == 'fit' or stage is None:\n",
    "            self.train_input = self.df_to_input(df[df.fold=='train'])\n",
    "            self.val_input = self.df_to_input(df[df.fold=='val'])\n",
    "        if stage == 'test' or stage is None:\n",
    "            self.test_input = self.df_to_input(df[df.fold=='test'])\n",
    "    \n",
    "    def make_dataloader(self, input, transform, shuffle=False):\n",
    "        ds = CacheDataset(input, transform=transform, cache_rate=0)\n",
    "        dl = DataLoader(ds, batch_size=16, shuffle=shuffle, num_workers=12)\n",
    "        \n",
    "        return dl\n",
    "\n",
    "    def train_dataloader(self):\n",
    "        return self.make_dataloader(self.train_input, self.train_transform, shuffle=False)\n",
    "\n",
    "    def val_dataloader(self):\n",
    "        return self.make_dataloader(self.val_input, self.test_transform,)\n",
    "\n",
    "    def test_dataloader(self):\n",
    "        return self.make_dataloader(self.test_input, self.test_transform,)\n",
    "\n",
    "    def df_to_input(self, df):\n",
    "            return [\n",
    "                {'path':str(ix),\n",
    "                'image':str(ix),\n",
    "                'label':r['dcb']}\n",
    "                for ix, r in df.iterrows()\n",
    "            ]"
   ]
  },
  {
   "cell_type": "code",
   "execution_count": 38,
   "metadata": {},
   "outputs": [
    {
     "name": "stderr",
     "output_type": "stream",
     "text": [
      "Columns (2,24,26,111,115,200,204,361,363,375,416,422,451,470,477,480,521,524,547,585,591,654,667,733,757,765,767,768,769,770,771,773,774,775,776,777,779,780,781,782,833,836,844,847,848,854,857,858,860,861,862,864,865,867,868,869,876,877,879,880,881,882,883,885,886,887,888,889,891,892,893,894,895,897,898,899,912,913,915,916,917,918,919,921,922,923,924,925,927,928,929,930,931,933,934,935) have mixed types.Specify dtype option on import or set low_memory=False.\n"
     ]
    }
   ],
   "source": [
    "paths = list(Path('/home/rens/hpc/rens/output/patches/isala_metastasis_level4').iterdir())\n",
    "\n",
    "df = pd.DataFrame(\n",
    "    data=[p.stem.split('_')[0].replace('-','_') for p in paths],\n",
    "    index=paths,\n",
    "    columns=['patient']\n",
    ")\n",
    "\n",
    "patients = df.patient.unique()\n",
    "random.shuffle(patients)\n",
    "\n",
    "train = df[df.patient.isin(patients[:37])].index.tolist()\n",
    "val = df[df.patient.isin(patients[37:47])].index.tolist()\n",
    "test = df[df.patient.isin(patients[47:])].index.tolist()\n",
    "\n",
    "ds = BenefitDataset(train, val, test)\n",
    "ds.setup()"
   ]
  },
  {
   "cell_type": "code",
   "execution_count": 21,
   "metadata": {},
   "outputs": [
    {
     "name": "stderr",
     "output_type": "stream",
     "text": [
      "Columns (2,24,26,111,115,200,204,361,363,375,416,422,451,470,477,480,521,524,547,585,591,654,667,733,757,765,767,768,769,770,771,773,774,775,776,777,779,780,781,782,833,836,844,847,848,854,857,858,860,861,862,864,865,867,868,869,876,877,879,880,881,882,883,885,886,887,888,889,891,892,893,894,895,897,898,899,912,913,915,916,917,918,919,921,922,923,924,925,927,928,929,930,931,933,934,935) have mixed types.Specify dtype option on import or set low_memory=False.\n"
     ]
    }
   ],
   "source": [
    "train = list(Path('/home/rens/hpc/rens/output/patches/isala_metastasis_level4').iterdir())\n",
    "val = list(Path('/home/rens/hpc/rens/output/patches/radboud_metastasis_level4').iterdir())\n",
    "test = list(Path('/home/rens/hpc/rens/output/patches/mst_metastasis_level4').iterdir())\n",
    "\n",
    "ds = BenefitDataset(train, val, test)\n",
    "ds.setup()"
   ]
  },
  {
   "cell_type": "code",
   "execution_count": 39,
   "metadata": {},
   "outputs": [
    {
     "name": "stderr",
     "output_type": "stream",
     "text": [
      "Global seed set to 5\n",
      "GPU available: True, used: True\n",
      "TPU available: False, using: 0 TPU cores\n",
      "IPU available: False, using: 0 IPUs\n",
      "DataModule.setup has already been called, so it will not be called again. In v1.6 this behavior will change to always call DataModule.setup.\n",
      "LOCAL_RANK: 0 - CUDA_VISIBLE_DEVICES: [0]\n",
      "\n",
      "  | Name  | Type     | Params\n",
      "-----------------------------------\n",
      "0 | model | DenseNet | 7.0 M \n",
      "-----------------------------------\n",
      "1.0 K     Trainable params\n",
      "7.0 M     Non-trainable params\n",
      "7.0 M     Total params\n",
      "27.820    Total estimated model params size (MB)\n"
     ]
    },
    {
     "name": "stdout",
     "output_type": "stream",
     "text": [
      "Epoch 1:   0%|          | 0/156 [00:00<00:00, 1004.38it/s, loss=0.667, v_num=25] "
     ]
    },
    {
     "name": "stderr",
     "output_type": "stream",
     "text": [
      "Metric `AUROC` will save all targets and predictions in buffer. For large datasets this may lead to large memory footprint.\n"
     ]
    },
    {
     "name": "stdout",
     "output_type": "stream",
     "text": [
      "Epoch 9: 100%|██████████| 156/156 [00:11<00:00, 14.20it/s, loss=0.554, v_num=25] "
     ]
    },
    {
     "name": "stderr",
     "output_type": "stream",
     "text": [
      "DataModule.prepare_data has already been called, so it will not be called again. In v1.6 this behavior will change to always call DataModule.prepare_data.\n",
      "LOCAL_RANK: 0 - CUDA_VISIBLE_DEVICES: [0]\n"
     ]
    },
    {
     "name": "stdout",
     "output_type": "stream",
     "text": [
      "\n",
      "Testing: 100%|██████████| 21/21 [00:01<00:00, 15.59it/s]--------------------------------------------------------------------------------\n",
      "DATALOADER:0 TEST RESULTS\n",
      "{}\n",
      "--------------------------------------------------------------------------------\n",
      "Testing: 100%|██████████| 21/21 [00:01<00:00, 10.69it/s]\n"
     ]
    }
   ],
   "source": [
    "from pytorch_lightning import Trainer, seed_everything\n",
    "from pytorch_lightning.loggers import TensorBoardLogger\n",
    "from pytorch_lightning.callbacks import LearningRateMonitor\n",
    "\n",
    "seed_everything(5)\n",
    "\n",
    "model = Model()\n",
    "logger = TensorBoardLogger('tb_logs', name='07_benefit')\n",
    "lr_monitor = LearningRateMonitor(logging_interval='step')\n",
    "\n",
    "trainer = Trainer(\n",
    "    gpus=1,\n",
    "    max_epochs=10,\n",
    "    logger=logger,\n",
    "    fast_dev_run=False,\n",
    "    num_sanity_val_steps=0,\n",
    "    # callbacks=[lr_monitor],\n",
    ")\n",
    "\n",
    "trainer.fit(model, ds)\n",
    "trainer.test(model, ds)\n",
    "\n",
    "model.results.to_csv('/home/rens/hpc/rens/output/patches/benefit_predictions_v3.csv')"
   ]
  },
  {
   "cell_type": "code",
   "execution_count": 41,
   "metadata": {},
   "outputs": [
    {
     "name": "stderr",
     "output_type": "stream",
     "text": [
      "Columns (2,24,26,111,115,200,204,361,363,375,416,422,451,470,477,480,521,524,547,585,591,654,667,733,757,765,767,768,769,770,771,773,774,775,776,777,779,780,781,782,833,836,844,847,848,854,857,858,860,861,862,864,865,867,868,869,876,877,879,880,881,882,883,885,886,887,888,889,891,892,893,894,895,897,898,899,912,913,915,916,917,918,919,921,922,923,924,925,927,928,929,930,931,933,934,935) have mixed types.Specify dtype option on import or set low_memory=False.\n"
     ]
    },
    {
     "data": {
      "image/png": "[encoded data removed]",
      "text/plain": [
       "<Figure size 864x864 with 1 Axes>"
      ]
     },
     "metadata": {
      "needs_background": "light"
     },
     "output_type": "display_data"
    }
   ],
   "source": [
    "import pandas as pd\n",
    "from pathlib import Path\n",
    "import matplotlib.pyplot as plt\n",
    "from sklearn.metrics import roc_auc_score, roc_curve\n",
    "\n",
    "r = Path('/home/rens/hpc/rens/output/patches')\n",
    "dmtr = pd.read_csv('/home/rens/repos/PREMIUM/code/radiomics_paper/dmtr.csv').set_index('id')\n",
    "\n",
    "df = pd.read_csv(r / 'benefit_predictions_v3.csv').set_index('Unnamed: 0')\n",
    "df['x'] = [int(ix.split('x')[-1].split('_')[0]) for ix in df.index]\n",
    "df['y'] = [int(ix.split('y')[-1].split('.')[0]) for ix in df.index]\n",
    "\n",
    "paths = []\n",
    "for ix in df.index:\n",
    "    filename = '_'.join(ix.split('_')[:-2]).split('/')[-1] + '.ndpi'\n",
    "    if 'primary' in ix:\n",
    "        path = Path('/home/rens/hpc/PREMIUM histopathology/data/isala/primary') / filename\n",
    "    elif 'metastasis' in ix:\n",
    "        path = Path('/home/rens/hpc/PREMIUM histopathology/data/isala/metastasis') / filename\n",
    "    else:\n",
    "        raise Exception('neither primary nor metastasis')\n",
    "    paths.append(str(path))\n",
    "df['slide'] = paths\n",
    "df['patient'] = [ix.split('/')[-1].split('_')[0].replace('-','_') for ix in df.index]\n",
    "dcb = []\n",
    "for patient in df.patient:\n",
    "    try:\n",
    "        dcb.append(dmtr.loc[patient, 'dcb'])\n",
    "    except:\n",
    "        dcb.append(float('nan'))\n",
    "df['dcb'] = dcb\n",
    "\n",
    "plt.figure(figsize=(12,12))\n",
    "\n",
    "# patch level\n",
    "fpr, tpr, _ = roc_curve(df.dcb, df.pred)\n",
    "auc = roc_auc_score(df.dcb, df.pred)\n",
    "plt.plot(fpr, tpr, label=f'Patch level AUC={auc:.3f}')\n",
    "\n",
    "# slide level\n",
    "slide_level_df = df.groupby('slide')[['pred','dcb']].mean()\n",
    "fpr, tpr, _ = roc_curve(slide_level_df.dcb, slide_level_df.pred)\n",
    "auc = roc_auc_score(slide_level_df.dcb, slide_level_df.pred)\n",
    "plt.plot(fpr, tpr, label=f'Slide level AUC={auc:.3f}')\n",
    "\n",
    "plt.plot([0,1],[0,1], linestyle='--', c='gray')\n",
    "\n",
    "plt.xlabel('1 - specificity')\n",
    "plt.ylabel('sensitivity')\n",
    "plt.legend()\n",
    "plt.show()"
   ]
  },
  {
   "cell_type": "code",
   "execution_count": null,
   "metadata": {},
   "outputs": [],
   "source": []
  }
 ],
 "metadata": {
  "kernelspec": {
   "display_name": "Python 3.9.7 ('conda-env')",
   "language": "python",
   "name": "python3"
  },
  "language_info": {
   "codemirror_mode": {
    "name": "ipython",
    "version": 3
   },
   "file_extension": ".py",
   "mimetype": "text/x-python",
   "name": "python",
   "nbconvert_exporter": "python",
   "pygments_lexer": "ipython3",
   "version": "3.9.7"
  },
  "orig_nbformat": 4,
  "vscode": {
   "interpreter": {
    "hash": "3beecffdad3b4344c6a02f780090fd18237a3f9b7cc1cb19cea49a4f642d1c84"
   }
  }
 },
 "nbformat": 4,
 "nbformat_minor": 2
}
