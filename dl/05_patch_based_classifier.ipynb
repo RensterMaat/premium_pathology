{
 "cells": [
  {
   "cell_type": "code",
   "execution_count": 5,
   "metadata": {},
   "outputs": [],
   "source": [
    "import pytorch_lightning as pl\n",
    "import os\n",
    "import torch\n",
    "import pandas as pd\n",
    "import numpy as np\n",
    "import torch.nn as nn\n",
    "from torchvision.models import densenet121\n",
    "from pathlib import Path\n",
    "from torchvision import datasets, transforms\n",
    "from torch.utils.data import DataLoader\n",
    "from monai.data import CacheDataset\n",
    "from monai.transforms import Lambdad, ToTensord\n",
    "from PIL import Image\n",
    "from torchmetrics.classification.auroc import AUROC\n",
    "\n",
    "\n",
    "data_path = Path('/home/rens/hpc/rens/output/patches/isala_primary_level4')\n",
    "\n",
    "class PatchLevelClassifier(pl.LightningModule):\n",
    "    def __init__(self, data_path):\n",
    "        super().__init__()\n",
    "        \n",
    "        # setup model\n",
    "        self.model = densenet121(pretrained=False)\n",
    "        self.model.classifier = nn.Sequential(\n",
    "            nn.Linear(1024,1),\n",
    "            nn.Softmax(-1)\n",
    "        )\n",
    "\n",
    "        # setup input data\n",
    "        dmtr = pd.read_csv('/home/rens/repos/PREMIUM/code/radiomics_paper/dmtr.csv').set_index('id')\n",
    "\n",
    "        paths = [str(p) for p in data_path.iterdir()]\n",
    "        patients = [p.stem.split('_')[0].replace('-','_') for p in data_path.iterdir()]\n",
    "\n",
    "        dcb = []\n",
    "        for patient in patients:\n",
    "            try:\n",
    "                dcb.append(dmtr.loc[patient, 'dcb'])\n",
    "            except:\n",
    "                dcb.append(float('nan'))\n",
    "                continue\n",
    "\n",
    "        df = pd.DataFrame(paths, columns=['path'])\n",
    "        df['patient'] = patients\n",
    "        df['dcb'] = dcb\n",
    "\n",
    "        df = df.dropna(subset=['dcb'])\n",
    "\n",
    "        unique_patients = df.patient.unique()\n",
    "\n",
    "        train_patients= unique_patients[:39]\n",
    "        self.train_input = self.df_to_input(df[df.patient.isin(train_patients)])\n",
    "\n",
    "        val_patients = unique_patients[39:44]\n",
    "        self.val_input = self.df_to_input(df[df.patient.isin(val_patients)])\n",
    "\n",
    "        test_patients = unique_patients[44:]\n",
    "        self.test_input = self.df_to_input(df[df.patient.isin(test_patients)])\n",
    "\n",
    "        # setup transformations for dataloaders\n",
    "        self.transform=transforms.Compose([\n",
    "            Lambdad(['image'], lambda x: np.array(Image.open(x)).transpose(2,0,1).astype(np.float32)),\n",
    "            ToTensord(keys=['image'])\n",
    "        ])\n",
    "\n",
    "        # setup dataframe for storing predictions\n",
    "        self.predictions = pd.DataFrame(columns=['pred'])\n",
    "\n",
    "    def forward(self, x):\n",
    "        return self.model(x)\n",
    "\n",
    "    def make_dataloader(self, input):\n",
    "        ds = CacheDataset(input, transform=self.transform, cache_rate=0)\n",
    "        dl = DataLoader(ds, batch_size=16, shuffle=False, num_workers=12)\n",
    "        \n",
    "        return dl\n",
    "\n",
    "    def configure_optimizers(self):\n",
    "        optimizer = torch.optim.Adam(self.parameters(), lr=1e-5)\n",
    "        return optimizer\n",
    "\n",
    "    def train_dataloader(self):\n",
    "        return self.make_dataloader(self.train_input)\n",
    "\n",
    "    def val_dataloader(self):\n",
    "        return self.make_dataloader(self.val_input)\n",
    "\n",
    "    def test_dataloader(self):\n",
    "        return self.make_dataloader(self.test_input)\n",
    "\n",
    "    def training_step(self, batch, batch_idx):\n",
    "        x,y = batch['image'], batch['label'] \n",
    "        y_hat = self.model(x)\n",
    "\n",
    "        loss = nn.BCELoss()(y_hat, y.unsqueeze(1).float())\n",
    "\n",
    "        self.logger.experiment.add_scalars('loss',{'train':loss.detach()},self.global_step)\n",
    "\n",
    "        return loss\n",
    "\n",
    "    def validation_step(self, batch, batch_idx):\n",
    "        x,y = batch['image'], batch['label'] \n",
    "        y_hat = self(x)\n",
    "\n",
    "        loss = nn.BCELoss()(y_hat, y.unsqueeze(1).float())\n",
    "        self.logger.experiment.add_scalars('loss',{'val':loss.detach()},self.global_step)\n",
    "\n",
    "        auc = AUROC()(y_hat, y.unsqueeze(1).int())\n",
    "        self.logger.experiment.add_scalars('auc',{'val':auc},self.global_step)\n",
    "\n",
    "        self.log('val_loss',loss)\n",
    "\n",
    "        return loss\n",
    "\n",
    "    def test_step(self, batch, batch_idx):\n",
    "        paths, images = batch['path'], batch['image']\n",
    "        y_hat = self.model(images)\n",
    "        \n",
    "        for p, f in zip(paths, y_hat.cpu().detach().numpy()):\n",
    "            self.features.loc[p] = f\n",
    "\n",
    "    def df_to_input(self, df):\n",
    "        return [\n",
    "            {'path':r['path'], \n",
    "            'image':r['path'],\n",
    "            'label':r['dcb']}\n",
    "            for _, r in df.iterrows()\n",
    "        ]\n",
    "\n",
    "    \n",
    "    \n"
   ]
  },
  {
   "cell_type": "code",
   "execution_count": 8,
   "metadata": {},
   "outputs": [
    {
     "name": "stderr",
     "output_type": "stream",
     "text": [
      "Columns (24,26,111,115,200,204,361,363,470,477,480,521,547,585,591,654) have mixed types.Specify dtype option on import or set low_memory=False.\n",
      "GPU available: True, used: True\n",
      "TPU available: False, using: 0 TPU cores\n",
      "IPU available: False, using: 0 IPUs\n",
      "LOCAL_RANK: 0 - CUDA_VISIBLE_DEVICES: [0]\n",
      "\n",
      "  | Name  | Type     | Params\n",
      "-----------------------------------\n",
      "0 | model | DenseNet | 7.0 M \n",
      "-----------------------------------\n",
      "7.0 M     Trainable params\n",
      "0         Non-trainable params\n",
      "7.0 M     Total params\n",
      "27.820    Total estimated model params size (MB)\n"
     ]
    },
    {
     "data": {
      "application/vnd.jupyter.widget-view+json": {
       "model_id": "b21815720a064611b97eb4fa1ce37870",
       "version_major": 2,
       "version_minor": 0
      },
      "text/plain": [
       "Validation sanity check: 0it [00:00, ?it/s]"
      ]
     },
     "metadata": {},
     "output_type": "display_data"
    },
    {
     "data": {
      "application/vnd.jupyter.widget-view+json": {
       "model_id": "936c55bc2c5149aa9fc3f13ebf87b9db",
       "version_major": 2,
       "version_minor": 0
      },
      "text/plain": [
       "Training: -1it [00:00, ?it/s]"
      ]
     },
     "metadata": {},
     "output_type": "display_data"
    },
    {
     "data": {
      "application/vnd.jupyter.widget-view+json": {
       "model_id": "48c72e03df8b46f08213e58f5161a501",
       "version_major": 2,
       "version_minor": 0
      },
      "text/plain": [
       "Validating: 0it [00:00, ?it/s]"
      ]
     },
     "metadata": {},
     "output_type": "display_data"
    },
    {
     "data": {
      "application/vnd.jupyter.widget-view+json": {
       "model_id": "03fb111929c14dd8ba0b9b3b6f1419c0",
       "version_major": 2,
       "version_minor": 0
      },
      "text/plain": [
       "Validating: 0it [00:00, ?it/s]"
      ]
     },
     "metadata": {},
     "output_type": "display_data"
    },
    {
     "data": {
      "application/vnd.jupyter.widget-view+json": {
       "model_id": "e53ddd69ce7c46089970ec4782f0ea51",
       "version_major": 2,
       "version_minor": 0
      },
      "text/plain": [
       "Validating: 0it [00:00, ?it/s]"
      ]
     },
     "metadata": {},
     "output_type": "display_data"
    },
    {
     "data": {
      "application/vnd.jupyter.widget-view+json": {
       "model_id": "7f2a26bad3014ae1924b96eecf75e00a",
       "version_major": 2,
       "version_minor": 0
      },
      "text/plain": [
       "Validating: 0it [00:00, ?it/s]"
      ]
     },
     "metadata": {},
     "output_type": "display_data"
    },
    {
     "data": {
      "application/vnd.jupyter.widget-view+json": {
       "model_id": "64dcf9d9b6304624b3f0a0e248d573df",
       "version_major": 2,
       "version_minor": 0
      },
      "text/plain": [
       "Validating: 0it [00:00, ?it/s]"
      ]
     },
     "metadata": {},
     "output_type": "display_data"
    },
    {
     "data": {
      "application/vnd.jupyter.widget-view+json": {
       "model_id": "4b4256d7bceb415d88f74fc0ee540bf1",
       "version_major": 2,
       "version_minor": 0
      },
      "text/plain": [
       "Validating: 0it [00:00, ?it/s]"
      ]
     },
     "metadata": {},
     "output_type": "display_data"
    },
    {
     "data": {
      "application/vnd.jupyter.widget-view+json": {
       "model_id": "9d5ba1e1f5d749f7bdaf76653d1a6a8b",
       "version_major": 2,
       "version_minor": 0
      },
      "text/plain": [
       "Validating: 0it [00:00, ?it/s]"
      ]
     },
     "metadata": {},
     "output_type": "display_data"
    },
    {
     "data": {
      "application/vnd.jupyter.widget-view+json": {
       "model_id": "cc16f02196bc42ffa35605bcb9be0ed2",
       "version_major": 2,
       "version_minor": 0
      },
      "text/plain": [
       "Validating: 0it [00:00, ?it/s]"
      ]
     },
     "metadata": {},
     "output_type": "display_data"
    },
    {
     "data": {
      "application/vnd.jupyter.widget-view+json": {
       "model_id": "6585235cbfe441e781f2a671937219ad",
       "version_major": 2,
       "version_minor": 0
      },
      "text/plain": [
       "Validating: 0it [00:00, ?it/s]"
      ]
     },
     "metadata": {},
     "output_type": "display_data"
    },
    {
     "data": {
      "application/vnd.jupyter.widget-view+json": {
       "model_id": "e0050febe7e54635a9275ff7d3b26db4",
       "version_major": 2,
       "version_minor": 0
      },
      "text/plain": [
       "Validating: 0it [00:00, ?it/s]"
      ]
     },
     "metadata": {},
     "output_type": "display_data"
    },
    {
     "data": {
      "application/vnd.jupyter.widget-view+json": {
       "model_id": "365a8268b72a4bac8a261d73184117ff",
       "version_major": 2,
       "version_minor": 0
      },
      "text/plain": [
       "Validating: 0it [00:00, ?it/s]"
      ]
     },
     "metadata": {},
     "output_type": "display_data"
    },
    {
     "data": {
      "application/vnd.jupyter.widget-view+json": {
       "model_id": "d61520e82cde442ba0f83a16b020dc4f",
       "version_major": 2,
       "version_minor": 0
      },
      "text/plain": [
       "Validating: 0it [00:00, ?it/s]"
      ]
     },
     "metadata": {},
     "output_type": "display_data"
    },
    {
     "data": {
      "application/vnd.jupyter.widget-view+json": {
       "model_id": "c2998dfa22b748a9be9e6ac813680eb7",
       "version_major": 2,
       "version_minor": 0
      },
      "text/plain": [
       "Validating: 0it [00:00, ?it/s]"
      ]
     },
     "metadata": {},
     "output_type": "display_data"
    },
    {
     "data": {
      "application/vnd.jupyter.widget-view+json": {
       "model_id": "e302d42668b54a8c86a98d8ebe2acf73",
       "version_major": 2,
       "version_minor": 0
      },
      "text/plain": [
       "Validating: 0it [00:00, ?it/s]"
      ]
     },
     "metadata": {},
     "output_type": "display_data"
    },
    {
     "data": {
      "application/vnd.jupyter.widget-view+json": {
       "model_id": "98ae5e368fea44f899846fb6101dd85d",
       "version_major": 2,
       "version_minor": 0
      },
      "text/plain": [
       "Validating: 0it [00:00, ?it/s]"
      ]
     },
     "metadata": {},
     "output_type": "display_data"
    },
    {
     "data": {
      "application/vnd.jupyter.widget-view+json": {
       "model_id": "5a2ecb18b8d94c5aa054178455aed4bb",
       "version_major": 2,
       "version_minor": 0
      },
      "text/plain": [
       "Validating: 0it [00:00, ?it/s]"
      ]
     },
     "metadata": {},
     "output_type": "display_data"
    },
    {
     "data": {
      "application/vnd.jupyter.widget-view+json": {
       "model_id": "6daff57c2be641e7be7f7d14bd361f81",
       "version_major": 2,
       "version_minor": 0
      },
      "text/plain": [
       "Validating: 0it [00:00, ?it/s]"
      ]
     },
     "metadata": {},
     "output_type": "display_data"
    }
   ],
   "source": [
    "from pytorch_lightning.loggers import TensorBoardLogger\n",
    "from pytorch_lightning import Trainer\n",
    "\n",
    "model = PatchLevelClassifier(data_path)\n",
    "\n",
    "logger = TensorBoardLogger('tb_logs', name='05_patch_level_classification')\n",
    "\n",
    "trainer = Trainer(\n",
    "    max_epochs=200,\n",
    "    log_every_n_steps=1,\n",
    "    gpus=1,\n",
    "    logger=logger,\n",
    "    # callbacks=[early_stopping],\n",
    "    # fast_dev_run=True\n",
    ")\n",
    "trainer.fit(model)"
   ]
  },
  {
   "cell_type": "code",
   "execution_count": null,
   "metadata": {},
   "outputs": [],
   "source": []
  }
 ],
 "metadata": {
  "kernelspec": {
   "display_name": "Python 3.9.7 ('conda-env')",
   "language": "python",
   "name": "python3"
  },
  "language_info": {
   "codemirror_mode": {
    "name": "ipython",
    "version": 3
   },
   "file_extension": ".py",
   "mimetype": "text/x-python",
   "name": "python",
   "nbconvert_exporter": "python",
   "pygments_lexer": "ipython3",
   "version": "3.9.7"
  },
  "orig_nbformat": 4,
  "vscode": {
   "interpreter": {
    "hash": "3beecffdad3b4344c6a02f780090fd18237a3f9b7cc1cb19cea49a4f642d1c84"
   }
  }
 },
 "nbformat": 4,
 "nbformat_minor": 2
}
