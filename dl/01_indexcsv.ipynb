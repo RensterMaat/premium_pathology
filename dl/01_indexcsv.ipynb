{
 "cells": [
  {
   "cell_type": "code",
   "execution_count": 21,
   "metadata": {},
   "outputs": [
    {
     "name": "stderr",
     "output_type": "stream",
     "text": [
      "/home/rens/anaconda3/envs/conda-env/lib/python3.9/site-packages/IPython/core/interactiveshell.py:3444: DtypeWarning: Columns (2,24,26,111,115,200,204,361,363,375,416,422,451,470,477,480,521,524,547,585,591,654,667,733,757,765,767,768,769,770,771,773,774,775,776,777,779,780,781,782,833,836,844,847,848,854,857,858,860,861,862,864,865,867,868,869,876,877,879,880,881,882,883,885,886,887,888,889,891,892,893,894,895,897,898,899,912,913,915,916,917,918,919,921,922,923,924,925,927,928,929,930,931,933,934,935) have mixed types.Specify dtype option on import or set low_memory=False.\n",
      "  exec(code_obj, self.user_global_ns, self.user_ns)\n"
     ]
    }
   ],
   "source": [
    "from pathlib import Path\n",
    "import pandas as pd\n",
    "import os\n",
    "\n",
    "root = Path('/home/rens/hpc/rens/output/patches')\n",
    "\n",
    "df = pd.DataFrame(columns=['patient','center','level','overlapping','primary','dcb'])\n",
    "df.index.name = 'path'\n",
    "\n",
    "dmtr = pd.read_csv('/home/rens/repos/PREMIUM/code/radiomics_paper/dmtr.csv').set_index('id')\n",
    "\n",
    "for r, _, files in os.walk(root):\n",
    "    for file in files:\n",
    "        if file.endswith('.jpeg'):\n",
    "            path =  Path(r) / file\n",
    "\n",
    "            directory = path.parent.stem\n",
    "            center = directory.split('_')[0]\n",
    "            level = int(directory.split('level')[-1][0])\n",
    "            primary = bool('primary' in directory)\n",
    "\n",
    "            overlapping = bool('overlapping' in directory)\n",
    "\n",
    "            patient = file.split('_')[0].replace('-','_')\n",
    "            dcb = dmtr.loc[patient, 'dcb'] if patient in dmtr.index else float('nan')\n",
    "            \n",
    "            df.loc[path] = [patient, center, level, overlapping, primary, dcb]\n",
    "\n"
   ]
  },
  {
   "cell_type": "code",
   "execution_count": 74,
   "metadata": {},
   "outputs": [],
   "source": [
    "train_set = index.get(center='isala', level=4, overlapping=False, primary=False)\n",
    "test_set = index.get(center='mst', level=4, overlapping=False, primary=False)\n",
    "\n",
    "ds = Dataset(dev_set=train_set, test_set=test_set)\n",
    "ds.setup()"
   ]
  },
  {
   "cell_type": "code",
   "execution_count": 67,
   "metadata": {},
   "outputs": [],
   "source": [
    "\n",
    "\n",
    "\n",
    "\n",
    "\n"
   ]
  },
  {
   "cell_type": "code",
   "execution_count": null,
   "metadata": {},
   "outputs": [],
   "source": []
  }
 ],
 "metadata": {
  "kernelspec": {
   "display_name": "Python 3.9.7 ('conda-env')",
   "language": "python",
   "name": "python3"
  },
  "language_info": {
   "codemirror_mode": {
    "name": "ipython",
    "version": 3
   },
   "file_extension": ".py",
   "mimetype": "text/x-python",
   "name": "python",
   "nbconvert_exporter": "python",
   "pygments_lexer": "ipython3",
   "version": "3.9.7"
  },
  "orig_nbformat": 4,
  "vscode": {
   "interpreter": {
    "hash": "3beecffdad3b4344c6a02f780090fd18237a3f9b7cc1cb19cea49a4f642d1c84"
   }
  }
 },
 "nbformat": 4,
 "nbformat_minor": 2
}
